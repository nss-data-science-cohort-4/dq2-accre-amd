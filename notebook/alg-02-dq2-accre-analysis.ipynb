{
 "cells": [
  {
   "cell_type": "code",
   "execution_count": 1,
   "metadata": {},
   "outputs": [],
   "source": [
    "import pandas as pd\n",
    "import numpy as np\n",
    "import matplotlib.pyplot as plt\n",
    "import seaborn as sns\n",
    "import re\n",
    "\n",
    "%matplotlib inline"
   ]
  },
  {
   "cell_type": "code",
   "execution_count": 4,
   "metadata": {},
   "outputs": [
    {
     "data": {
      "text/html": [
       "<div>\n",
       "<style scoped>\n",
       "    .dataframe tbody tr th:only-of-type {\n",
       "        vertical-align: middle;\n",
       "    }\n",
       "\n",
       "    .dataframe tbody tr th {\n",
       "        vertical-align: top;\n",
       "    }\n",
       "\n",
       "    .dataframe thead th {\n",
       "        text-align: right;\n",
       "    }\n",
       "</style>\n",
       "<table border=\"1\" class=\"dataframe\">\n",
       "  <thead>\n",
       "    <tr style=\"text-align: right;\">\n",
       "      <th></th>\n",
       "      <th>jobid</th>\n",
       "      <th>account</th>\n",
       "      <th>user</th>\n",
       "      <th>reqtime</th>\n",
       "      <th>usedtime</th>\n",
       "      <th>nodes</th>\n",
       "      <th>cpus</th>\n",
       "      <th>partition</th>\n",
       "      <th>state</th>\n",
       "      <th>exitcode_user</th>\n",
       "      <th>exitcode_error</th>\n",
       "      <th>used_mb_per_core</th>\n",
       "      <th>reqmem_per_core</th>\n",
       "      <th>cluster_type</th>\n",
       "      <th>cluster_nodes</th>\n",
       "    </tr>\n",
       "  </thead>\n",
       "  <tbody>\n",
       "    <tr>\n",
       "      <th>0</th>\n",
       "      <td>15925210</td>\n",
       "      <td>treviso</td>\n",
       "      <td>arabella</td>\n",
       "      <td>1188000</td>\n",
       "      <td>1188028</td>\n",
       "      <td>1</td>\n",
       "      <td>24</td>\n",
       "      <td>production</td>\n",
       "      <td>COMPLETED</td>\n",
       "      <td>0</td>\n",
       "      <td>0</td>\n",
       "      <td>2748.895417</td>\n",
       "      <td>5120.0</td>\n",
       "      <td>cn</td>\n",
       "      <td>1531</td>\n",
       "    </tr>\n",
       "    <tr>\n",
       "      <th>1</th>\n",
       "      <td>15861126</td>\n",
       "      <td>treviso</td>\n",
       "      <td>arabella</td>\n",
       "      <td>1188000</td>\n",
       "      <td>1090256</td>\n",
       "      <td>1</td>\n",
       "      <td>24</td>\n",
       "      <td>production</td>\n",
       "      <td>COMPLETED</td>\n",
       "      <td>0</td>\n",
       "      <td>0</td>\n",
       "      <td>2799.213333</td>\n",
       "      <td>5120.0</td>\n",
       "      <td>cn</td>\n",
       "      <td>1441</td>\n",
       "    </tr>\n",
       "    <tr>\n",
       "      <th>2</th>\n",
       "      <td>15861125</td>\n",
       "      <td>treviso</td>\n",
       "      <td>arabella</td>\n",
       "      <td>1188000</td>\n",
       "      <td>1188020</td>\n",
       "      <td>1</td>\n",
       "      <td>24</td>\n",
       "      <td>production</td>\n",
       "      <td>COMPLETED</td>\n",
       "      <td>0</td>\n",
       "      <td>0</td>\n",
       "      <td>2879.660833</td>\n",
       "      <td>5120.0</td>\n",
       "      <td>cn</td>\n",
       "      <td>1464</td>\n",
       "    </tr>\n",
       "    <tr>\n",
       "      <th>3</th>\n",
       "      <td>16251645</td>\n",
       "      <td>treviso</td>\n",
       "      <td>arabella</td>\n",
       "      <td>1188000</td>\n",
       "      <td>1050632</td>\n",
       "      <td>1</td>\n",
       "      <td>24</td>\n",
       "      <td>production</td>\n",
       "      <td>COMPLETED</td>\n",
       "      <td>0</td>\n",
       "      <td>0</td>\n",
       "      <td>2721.555417</td>\n",
       "      <td>5120.0</td>\n",
       "      <td>cn</td>\n",
       "      <td>1473</td>\n",
       "    </tr>\n",
       "    <tr>\n",
       "      <th>4</th>\n",
       "      <td>16251646</td>\n",
       "      <td>treviso</td>\n",
       "      <td>arabella</td>\n",
       "      <td>1188000</td>\n",
       "      <td>1188003</td>\n",
       "      <td>1</td>\n",
       "      <td>24</td>\n",
       "      <td>production</td>\n",
       "      <td>COMPLETED</td>\n",
       "      <td>0</td>\n",
       "      <td>0</td>\n",
       "      <td>2744.837917</td>\n",
       "      <td>5120.0</td>\n",
       "      <td>cn</td>\n",
       "      <td>1440</td>\n",
       "    </tr>\n",
       "  </tbody>\n",
       "</table>\n",
       "</div>"
      ],
      "text/plain": [
       "      jobid  account      user  reqtime  usedtime  nodes  cpus   partition  \\\n",
       "0  15925210  treviso  arabella  1188000   1188028      1    24  production   \n",
       "1  15861126  treviso  arabella  1188000   1090256      1    24  production   \n",
       "2  15861125  treviso  arabella  1188000   1188020      1    24  production   \n",
       "3  16251645  treviso  arabella  1188000   1050632      1    24  production   \n",
       "4  16251646  treviso  arabella  1188000   1188003      1    24  production   \n",
       "\n",
       "       state  exitcode_user  exitcode_error  used_mb_per_core  \\\n",
       "0  COMPLETED              0               0       2748.895417   \n",
       "1  COMPLETED              0               0       2799.213333   \n",
       "2  COMPLETED              0               0       2879.660833   \n",
       "3  COMPLETED              0               0       2721.555417   \n",
       "4  COMPLETED              0               0       2744.837917   \n",
       "\n",
       "   reqmem_per_core cluster_type cluster_nodes  \n",
       "0           5120.0           cn          1531  \n",
       "1           5120.0           cn          1441  \n",
       "2           5120.0           cn          1464  \n",
       "3           5120.0           cn          1473  \n",
       "4           5120.0           cn          1440  "
      ]
     },
     "metadata": {},
     "output_type": "display_data"
    }
   ],
   "source": [
    "accre_jobs_2020 = pd.read_csv('../data/accre_jobs_2020_cleaned.csv')\n",
    "display(accre_jobs_2020.head())"
   ]
  },
  {
   "cell_type": "markdown",
   "metadata": {},
   "source": [
    "# Exploring the dataframe"
   ]
  },
  {
   "cell_type": "code",
   "execution_count": 5,
   "metadata": {},
   "outputs": [
    {
     "name": "stdout",
     "output_type": "stream",
     "text": [
      "<class 'pandas.core.frame.DataFrame'>\n",
      "RangeIndex: 3813160 entries, 0 to 3813159\n",
      "Data columns (total 15 columns):\n",
      "jobid               object\n",
      "account             object\n",
      "user                object\n",
      "reqtime             int64\n",
      "usedtime            int64\n",
      "nodes               int64\n",
      "cpus                int64\n",
      "partition           object\n",
      "state               object\n",
      "exitcode_user       int64\n",
      "exitcode_error      int64\n",
      "used_mb_per_core    float64\n",
      "reqmem_per_core     float64\n",
      "cluster_type        object\n",
      "cluster_nodes       object\n",
      "dtypes: float64(2), int64(6), object(7)\n",
      "memory usage: 436.4+ MB\n"
     ]
    }
   ],
   "source": [
    "accre_jobs_2020.info()"
   ]
  },
  {
   "cell_type": "markdown",
   "metadata": {},
   "source": [
    "## column state"
   ]
  },
  {
   "cell_type": "code",
   "execution_count": 6,
   "metadata": {},
   "outputs": [
    {
     "data": {
      "text/plain": [
       "COMPLETED              3804625\n",
       "CANCELLED                 6106\n",
       "FAILED                    1404\n",
       "CANCELLED by 686562        681\n",
       "OUT_OF_MEMORY               94\n",
       "TIMEOUT                     80\n",
       "CANCELLED by 505355         63\n",
       "CANCELLED by 855431         17\n",
       "CANCELLED by 782611         13\n",
       "CANCELLED by 9206            9\n",
       "CANCELLED by 397600          7\n",
       "CANCELLED by 200557          6\n",
       "CANCELLED by 0               5\n",
       "CANCELLED by 486541          4\n",
       "CANCELLED by 454080          4\n",
       "CANCELLED by 199766          4\n",
       "CANCELLED by 9201            3\n",
       "CANCELLED by 9202            3\n",
       "CANCELLED by 483348          3\n",
       "CANCELLED by 649319          3\n",
       "CANCELLED by 693461          2\n",
       "CANCELLED by 90423           2\n",
       "CANCELLED by 791651          2\n",
       "CANCELLED by 666860          2\n",
       "CANCELLED by 895426          2\n",
       "CANCELLED by 546080          2\n",
       "CANCELLED by 124006          2\n",
       "CANCELLED by 199066          2\n",
       "CANCELLED by 515423          2\n",
       "CANCELLED by 651701          1\n",
       "CANCELLED by 763605          1\n",
       "CANCELLED by 337422          1\n",
       "CANCELLED by 785271          1\n",
       "CANCELLED by 782535          1\n",
       "CANCELLED by 649321          1\n",
       "CANCELLED by 781109          1\n",
       "CANCELLED by 503585          1\n",
       "Name: state, dtype: int64"
      ]
     },
     "execution_count": 6,
     "metadata": {},
     "output_type": "execute_result"
    }
   ],
   "source": [
    "accre_jobs_2020['state'].value_counts()"
   ]
  },
  {
   "cell_type": "code",
   "execution_count": 7,
   "metadata": {},
   "outputs": [],
   "source": [
    "### trying to add cancelled by ... to canceled jobs\n",
    "#re.sub(r\"CANCELLED by\\s\\d+\", 'CANCELLED', accre_jobs_2020.state) need to do a lambda function and .apply\n",
    "#accre_jobs_2020[accre_jobs_2020[\"account\"].str.match('\\d+')].value_counts()"
   ]
  },
  {
   "cell_type": "code",
   "execution_count": 8,
   "metadata": {},
   "outputs": [],
   "source": [
    "#accre_jobs_2020[(accre_jobs_2020_clean2['state'] == 'FAILED')].nodelist.value_counts()"
   ]
  },
  {
   "cell_type": "code",
   "execution_count": 9,
   "metadata": {},
   "outputs": [],
   "source": [
    "#plt.figure(figsize = (20,500))\n",
    "#accre_jobs_2020[(accre_jobs_2020['state'] == 'FAILED')].groupby('state')['nodelist'].value_counts().plot(kind = 'barh')\n",
    "#plt.yticks(fontsize = 20);"
   ]
  },
  {
   "cell_type": "markdown",
   "metadata": {},
   "source": [
    "## column partition"
   ]
  },
  {
   "cell_type": "code",
   "execution_count": 10,
   "metadata": {},
   "outputs": [
    {
     "data": {
      "text/plain": [
       "production              3308915\n",
       "nogpfs                   327432\n",
       "sam                       79151\n",
       "pascal                    48000\n",
       "turing                    39377\n",
       "debug                      6738\n",
       "maxwell                    3347\n",
       "cgw-capra1                   83\n",
       "cgw-dougherty1               70\n",
       "cgw-cqs1                     34\n",
       "cgw-cqs3                      4\n",
       "cgw-vm-qa-flatearth1          4\n",
       "devel                         2\n",
       "cgw-tbi01                     2\n",
       "cgw-rocksteady                1\n",
       "Name: partition, dtype: int64"
      ]
     },
     "execution_count": 10,
     "metadata": {},
     "output_type": "execute_result"
    }
   ],
   "source": [
    "accre_jobs_2020['partition'].value_counts()"
   ]
  },
  {
   "cell_type": "markdown",
   "metadata": {},
   "source": [
    "## Exit code error"
   ]
  },
  {
   "cell_type": "code",
   "execution_count": null,
   "metadata": {},
   "outputs": [],
   "source": [
    "#accre_jobs_2020(accre_jobs_2020['exitcode_error'] != 0)"
   ]
  },
  {
   "cell_type": "code",
   "execution_count": 24,
   "metadata": {},
   "outputs": [
    {
     "data": {
      "text/plain": [
       "cms              806448\n",
       "cep              609282\n",
       "summer           380840\n",
       "galia            198036\n",
       "carrot           192551\n",
       "orange           158400\n",
       "cms_lowprio      135682\n",
       "casaba           117703\n",
       "portabella       109680\n",
       "bunch            105877\n",
       "cmsadmin         102589\n",
       "bulk              78608\n",
       "boysenberries     57620\n",
       "sharlin           57397\n",
       "horseradish       53707\n",
       "grisette          42447\n",
       "sweet             40241\n",
       "mixed             39311\n",
       "retailer          39091\n",
       "key               37711\n",
       "round             36827\n",
       "wood              32383\n",
       "savoy             30482\n",
       "sprite            25892\n",
       "atemoyas          25020\n",
       "winged            24770\n",
       "garlic            19969\n",
       "wax               19623\n",
       "celery            17399\n",
       "alkmene           15605\n",
       "                  ...  \n",
       "pickling             11\n",
       "maltaise             11\n",
       "galangal             10\n",
       "oroblanco             9\n",
       "pioppino              7\n",
       "polk                  7\n",
       "nino                  6\n",
       "cocktail              6\n",
       "ingrid                6\n",
       "stalk                 4\n",
       "pink                  4\n",
       "francis               4\n",
       "prince                3\n",
       "mung                  3\n",
       "malanga               3\n",
       "plumcot               3\n",
       "gobo                  2\n",
       "florence              2\n",
       "glasshouse            2\n",
       "wa                    2\n",
       "romanesco             2\n",
       "tree                  1\n",
       "golden                1\n",
       "pearl                 1\n",
       "purple                1\n",
       "hass                  1\n",
       "discovery             1\n",
       "with                  1\n",
       "flamingo              1\n",
       "president             1\n",
       "Name: account, Length: 175, dtype: int64"
      ]
     },
     "execution_count": 24,
     "metadata": {},
     "output_type": "execute_result"
    }
   ],
   "source": [
    "accre_jobs_2020['account'].value_counts()"
   ]
  },
  {
   "cell_type": "code",
   "execution_count": 27,
   "metadata": {},
   "outputs": [
    {
     "data": {
      "text/plain": [
       "account   user     \n",
       "alkmene   velvet       15269\n",
       "          vaughn         163\n",
       "          marci          138\n",
       "          abigail         23\n",
       "          cleve           12\n",
       "almonds   montie        1891\n",
       "amaranth  alvira        3033\n",
       "angelys   namon          899\n",
       "          macey            9\n",
       "          katrina          4\n",
       "          christian        3\n",
       "          auther           2\n",
       "          lethia           1\n",
       "anise     ginger        1180\n",
       "          kori           225\n",
       "          osbaldo        182\n",
       "          adelina        116\n",
       "          sigrid          48\n",
       "          alvera          17\n",
       "          hattie           3\n",
       "          hailey           1\n",
       "antares   hubbard        160\n",
       "arra      needham         65\n",
       "atemoyas  pamelia      25018\n",
       "          loda             2\n",
       "baby      kegan         3186\n",
       "baking    suzie          137\n",
       "          christa        116\n",
       "          gerhardt        98\n",
       "          gladstone       74\n",
       "                       ...  \n",
       "water     mareli          46\n",
       "wax       porfirio     19623\n",
       "white     pearla         418\n",
       "winged    lavona       11026\n",
       "          jefferey      9153\n",
       "          lavonda       3982\n",
       "          katelin        398\n",
       "          canyon         210\n",
       "          denton           1\n",
       "with      kathlene         1\n",
       "wood      hillery      22859\n",
       "          eugenie       2847\n",
       "          kelly         1570\n",
       "          jeanne        1508\n",
       "          jamey         1193\n",
       "          mari           560\n",
       "          lemmie         504\n",
       "          jereme         414\n",
       "          benjman        296\n",
       "          shea           244\n",
       "          elma           138\n",
       "          jacalyn         91\n",
       "          kallie          52\n",
       "          giovanna        44\n",
       "          arne            36\n",
       "          tod             17\n",
       "          penelope         7\n",
       "          darold           3\n",
       "yu        mozelle        233\n",
       "          sage             7\n",
       "Name: user, Length: 736, dtype: int64"
      ]
     },
     "execution_count": 27,
     "metadata": {},
     "output_type": "execute_result"
    }
   ],
   "source": [
    "accre_jobs_2020.groupby('account')['user'].value_counts()"
   ]
  },
  {
   "cell_type": "code",
   "execution_count": null,
   "metadata": {},
   "outputs": [],
   "source": []
  },
  {
   "cell_type": "markdown",
   "metadata": {},
   "source": [
    "# Questions:"
   ]
  },
  {
   "cell_type": "markdown",
   "metadata": {},
   "source": [
    "### Question 1: \n",
    "While we have systematic checks in place to ensure the general system health of each compute node, we would like to use long-term data to see if there are any clusters of job failures on specific nodes. Do any of the production partition nodes show an unusual number of failed jobs relative to the others? Ignore the debug partition for this question.\n",
    "We are concerned with potentially unreliable nodes which are not being detected by our routine monitoring. Of the failed jobs, do any nodes show up unusually often? \n",
    "\n",
    "•\tLook for failed jobs"
   ]
  },
  {
   "cell_type": "code",
   "execution_count": 11,
   "metadata": {},
   "outputs": [
    {
     "name": "stdout",
     "output_type": "stream",
     "text": [
      "<class 'pandas.core.frame.DataFrame'>\n",
      "RangeIndex: 3813160 entries, 0 to 3813159\n",
      "Data columns (total 15 columns):\n",
      "jobid               object\n",
      "account             object\n",
      "user                object\n",
      "reqtime             int64\n",
      "usedtime            int64\n",
      "nodes               int64\n",
      "cpus                int64\n",
      "partition           object\n",
      "state               object\n",
      "exitcode_user       int64\n",
      "exitcode_error      int64\n",
      "used_mb_per_core    float64\n",
      "reqmem_per_core     float64\n",
      "cluster_type        object\n",
      "cluster_nodes       object\n",
      "dtypes: float64(2), int64(6), object(7)\n",
      "memory usage: 436.4+ MB\n"
     ]
    }
   ],
   "source": [
    "accre_jobs_2020.info()"
   ]
  },
  {
   "cell_type": "code",
   "execution_count": 13,
   "metadata": {},
   "outputs": [],
   "source": [
    "accre_jobs_2020_failed = accre_jobs_2020.loc[(accre_jobs_2020['state'] == 'FAILED')]"
   ]
  },
  {
   "cell_type": "code",
   "execution_count": 14,
   "metadata": {
    "scrolled": true
   },
   "outputs": [
    {
     "data": {
      "text/plain": [
       "(1404, 15)"
      ]
     },
     "execution_count": 14,
     "metadata": {},
     "output_type": "execute_result"
    }
   ],
   "source": [
    "accre_jobs_2020_failed.shape"
   ]
  },
  {
   "cell_type": "code",
   "execution_count": 16,
   "metadata": {},
   "outputs": [
    {
     "data": {
      "text/plain": [
       "pascal        702\n",
       "production    500\n",
       "maxwell       102\n",
       "nogpfs         53\n",
       "debug          27\n",
       "turing         20\n",
       "Name: partition, dtype: int64"
      ]
     },
     "execution_count": 16,
     "metadata": {},
     "output_type": "execute_result"
    }
   ],
   "source": [
    "accre_jobs_2020_failed['partition'].value_counts()"
   ]
  },
  {
   "cell_type": "code",
   "execution_count": 17,
   "metadata": {},
   "outputs": [
    {
     "data": {
      "text/plain": [
       "gpu        825\n",
       "cn         573\n",
       "ng           4\n",
       "generic      2\n",
       "Name: cluster_type, dtype: int64"
      ]
     },
     "execution_count": 17,
     "metadata": {},
     "output_type": "execute_result"
    }
   ],
   "source": [
    "accre_jobs_2020_failed['cluster_type'].value_counts()"
   ]
  },
  {
   "cell_type": "code",
   "execution_count": 18,
   "metadata": {},
   "outputs": [
    {
     "data": {
      "text/plain": [
       "cn    500\n",
       "Name: cluster_type, dtype: int64"
      ]
     },
     "execution_count": 18,
     "metadata": {},
     "output_type": "execute_result"
    }
   ],
   "source": [
    "accre_jobs_2020_failed[(accre_jobs_2020_failed[\"partition\"] == \"production\")].cluster_type.value_counts()"
   ]
  },
  {
   "cell_type": "code",
   "execution_count": 21,
   "metadata": {},
   "outputs": [
    {
     "data": {
      "text/plain": [
       "500"
      ]
     },
     "execution_count": 21,
     "metadata": {},
     "output_type": "execute_result"
    }
   ],
   "source": [
    "accre_jobs_2020_failed_prod.cluster_nodes.__len__()"
   ]
  },
  {
   "cell_type": "code",
   "execution_count": null,
   "metadata": {},
   "outputs": [],
   "source": [
    "#accre_jobs_2020[(accre_jobs_2020['state'] == 'FAILED') & (accre_jobs_2020[\"partition\"] == \"turing\")].nodelist.value_counts()"
   ]
  },
  {
   "cell_type": "code",
   "execution_count": null,
   "metadata": {},
   "outputs": [],
   "source": [
    "#accre_jobs_2020_failed[(accre_jobs_2020_failed[\"partition\"] == \"production\") & (accre_jobs_2020_failed[\"cluster_type\"] == \"cn\")].cluster_nodes.value_counts()"
   ]
  },
  {
   "cell_type": "code",
   "execution_count": 19,
   "metadata": {},
   "outputs": [],
   "source": [
    "accre_jobs_2020_failed_prod = accre_jobs_2020_failed.loc[accre_jobs_2020_failed[\"partition\"] == \"production\"]"
   ]
  },
  {
   "cell_type": "code",
   "execution_count": null,
   "metadata": {},
   "outputs": [],
   "source": [
    "#accre_jobs_2020_failed2 = accre_jobs_2020_failed.groupby['cluster_type']('cluster_nodes')"
   ]
  },
  {
   "cell_type": "code",
   "execution_count": 20,
   "metadata": {
    "scrolled": true
   },
   "outputs": [
    {
     "data": {
      "text/html": [
       "<div>\n",
       "<style scoped>\n",
       "    .dataframe tbody tr th:only-of-type {\n",
       "        vertical-align: middle;\n",
       "    }\n",
       "\n",
       "    .dataframe tbody tr th {\n",
       "        vertical-align: top;\n",
       "    }\n",
       "\n",
       "    .dataframe thead th {\n",
       "        text-align: right;\n",
       "    }\n",
       "</style>\n",
       "<table border=\"1\" class=\"dataframe\">\n",
       "  <thead>\n",
       "    <tr style=\"text-align: right;\">\n",
       "      <th></th>\n",
       "      <th>cluster_nodes</th>\n",
       "    </tr>\n",
       "  </thead>\n",
       "  <tbody>\n",
       "    <tr>\n",
       "      <th>1273</th>\n",
       "      <td>9</td>\n",
       "    </tr>\n",
       "    <tr>\n",
       "      <th>1458</th>\n",
       "      <td>6</td>\n",
       "    </tr>\n",
       "    <tr>\n",
       "      <th>1364</th>\n",
       "      <td>6</td>\n",
       "    </tr>\n",
       "    <tr>\n",
       "      <th>304</th>\n",
       "      <td>6</td>\n",
       "    </tr>\n",
       "    <tr>\n",
       "      <th>1450</th>\n",
       "      <td>5</td>\n",
       "    </tr>\n",
       "    <tr>\n",
       "      <th>1270</th>\n",
       "      <td>5</td>\n",
       "    </tr>\n",
       "    <tr>\n",
       "      <th>1479</th>\n",
       "      <td>5</td>\n",
       "    </tr>\n",
       "    <tr>\n",
       "      <th>1530,1531</th>\n",
       "      <td>5</td>\n",
       "    </tr>\n",
       "    <tr>\n",
       "      <th>1468,1469</th>\n",
       "      <td>4</td>\n",
       "    </tr>\n",
       "    <tr>\n",
       "      <th>1267</th>\n",
       "      <td>4</td>\n",
       "    </tr>\n",
       "    <tr>\n",
       "      <th>1284,1285,1286</th>\n",
       "      <td>4</td>\n",
       "    </tr>\n",
       "    <tr>\n",
       "      <th>1449</th>\n",
       "      <td>4</td>\n",
       "    </tr>\n",
       "    <tr>\n",
       "      <th>1278</th>\n",
       "      <td>4</td>\n",
       "    </tr>\n",
       "    <tr>\n",
       "      <th>1275</th>\n",
       "      <td>4</td>\n",
       "    </tr>\n",
       "    <tr>\n",
       "      <th>1448</th>\n",
       "      <td>4</td>\n",
       "    </tr>\n",
       "    <tr>\n",
       "      <th>1436</th>\n",
       "      <td>4</td>\n",
       "    </tr>\n",
       "    <tr>\n",
       "      <th>1258</th>\n",
       "      <td>3</td>\n",
       "    </tr>\n",
       "    <tr>\n",
       "      <th>411,412</th>\n",
       "      <td>3</td>\n",
       "    </tr>\n",
       "    <tr>\n",
       "      <th>1462</th>\n",
       "      <td>3</td>\n",
       "    </tr>\n",
       "    <tr>\n",
       "      <th>1422,1423</th>\n",
       "      <td>3</td>\n",
       "    </tr>\n",
       "    <tr>\n",
       "      <th>1439</th>\n",
       "      <td>3</td>\n",
       "    </tr>\n",
       "    <tr>\n",
       "      <th>1421,1422</th>\n",
       "      <td>3</td>\n",
       "    </tr>\n",
       "    <tr>\n",
       "      <th>1387</th>\n",
       "      <td>3</td>\n",
       "    </tr>\n",
       "    <tr>\n",
       "      <th>1343,1344</th>\n",
       "      <td>3</td>\n",
       "    </tr>\n",
       "    <tr>\n",
       "      <th>1495</th>\n",
       "      <td>3</td>\n",
       "    </tr>\n",
       "    <tr>\n",
       "      <th>1445</th>\n",
       "      <td>3</td>\n",
       "    </tr>\n",
       "    <tr>\n",
       "      <th>1297,1298</th>\n",
       "      <td>3</td>\n",
       "    </tr>\n",
       "    <tr>\n",
       "      <th>1261</th>\n",
       "      <td>3</td>\n",
       "    </tr>\n",
       "    <tr>\n",
       "      <th>1532</th>\n",
       "      <td>3</td>\n",
       "    </tr>\n",
       "    <tr>\n",
       "      <th>1505,1506</th>\n",
       "      <td>3</td>\n",
       "    </tr>\n",
       "    <tr>\n",
       "      <th>...</th>\n",
       "      <td>...</td>\n",
       "    </tr>\n",
       "    <tr>\n",
       "      <th>305,308,309,311,312,313,314,317,318,319,320,322,323,324,326,328,329,332,334,335,336,337,338,340,347,350,351,352,353,354,355,356,358,360,362,364,365,369,372,373,374,375,376,377,380,384,385,386,387,388,389,390,392,393,395,396,398,399,400,404,405,407,408,410,411,412,413,415,418,419,420,424,427,428,429,431,432,435,436,437,438,439,440,441,444,446,447,448,450,453,454,455,456,457,459,460,467,468,477,480,483,484,485,486,487,490,491,492,494,495,496,497,498,499,500,1284,1285,1303,1304,1305,1306,1308,1309,1310,1311,1317,1318,1319,1320,1321,1334,1335,1374,1375,1376,1377,1388,1389,1391,1392,1422,1423,1424</th>\n",
       "      <td>1</td>\n",
       "    </tr>\n",
       "    <tr>\n",
       "      <th>1317,1335</th>\n",
       "      <td>1</td>\n",
       "    </tr>\n",
       "    <tr>\n",
       "      <th>1484</th>\n",
       "      <td>1</td>\n",
       "    </tr>\n",
       "    <tr>\n",
       "      <th>449</th>\n",
       "      <td>1</td>\n",
       "    </tr>\n",
       "    <tr>\n",
       "      <th>394,1091,1096,1124,1126,1127,1128,1129,1130,1133,1275</th>\n",
       "      <td>1</td>\n",
       "    </tr>\n",
       "    <tr>\n",
       "      <th>1310</th>\n",
       "      <td>1</td>\n",
       "    </tr>\n",
       "    <tr>\n",
       "      <th>331,332,333,334,335,336,337,338,340,347,348,349,361,362,363,364,365,366,367,386,387,388,389,390,391,392,393,395,396,398,399,400,401,403,404,405,407,408,409,410,411,412,413,414,441,442,443,444,445,446,447,448,464,465,466,467,468,469,470,471,472,473,1273,1274,1275,1276,1277,1278,1279,1340,1341,1342,1343,1344,1345</th>\n",
       "      <td>1</td>\n",
       "    </tr>\n",
       "    <tr>\n",
       "      <th>374,451</th>\n",
       "      <td>1</td>\n",
       "    </tr>\n",
       "    <tr>\n",
       "      <th>1348,1422</th>\n",
       "      <td>1</td>\n",
       "    </tr>\n",
       "    <tr>\n",
       "      <th>303,307,313,324,326,327,329,333,334,335,336,337,348,350,351,352,354,355,356,367,368,369,370,374,375,379,380,384,385,386,401,403,405,418,427,428,444,445,449,467,470,471,472,474,475,497,1089,1090,1091,1125,1126,1127,1128,1129,1130,1131,1201,1202,1203,1204,1205,1207,1209,1212,1213,1214,1215,1216,1217,1218,1219,1220,1221,1222,1223,1224,1225,1228,1232,1233,1234,1236,1237,1238,1240,1242,1257,1260,1261,1274,1309,1310,1311,1315,1316,1336,1337,1338,1339,1340,1341,1342,1343,1344,1345,1347,1372,1373,1375,1392,1393,1394,1396,1421,1422,1423,1424,1435,1436,1437,1438,1442,1443,1444,1445,1446,1449,1457,1459,1460,1461,1462,1463,1465,1466,1467,1469,1473,1475,1476,1479,1480,1481</th>\n",
       "      <td>1</td>\n",
       "    </tr>\n",
       "    <tr>\n",
       "      <th>316,318,320,331,349,354,362,364,373,376,378,380,384,386,387,388,389,390,391,392,398,399,400,401,403,408,410,411,415,419,427,429,431,432,433,434,442,444,457,465,466,467,468,471,472,480,482,493,494,1203,1206,1209,1210,1214,1215,1220,1224,1229,1230,1234,1235,1239,1241,1395,1430,1432,1433,1435,1437,1439,1440,1442,1444,1446,1447,1448,1449,1450,1451,1452,1454,1455,1457,1458,1460,1461,1462,1464,1465,1466,1468,1469,1471,1472,1474,1475,1476,1477,1479</th>\n",
       "      <td>1</td>\n",
       "    </tr>\n",
       "    <tr>\n",
       "      <th>433,1230</th>\n",
       "      <td>1</td>\n",
       "    </tr>\n",
       "    <tr>\n",
       "      <th>313,314,315,316,317,318,319,320,322,323,324,326,327,328,329,330,331,332,333,334,335,336,338,340,347,348,349,350,351,352,353,354,355,356,357,372,373,374,375,376,377,378,379,380,386,387,388,389,390,391,392,393,398,399,400,401,403,404,405,407,408,410,411,412,413,414,415,431,432,433,434,435,436,437,438,440,441,442,443,444,445,450,451,452,453,454,455,470,471,472,473,474,475,476,477,479,480,481,482,483,484,485,487,488,489,490,491,492,493,494,495,496,1201,1202,1203,1204,1205,1206,1209,1210,1212,1213,1214,1215,1216,1217,1218,1219,1220,1221,1222,1223,1224,1225,1226,1228,1229,1230,1232,1233,1234,1235,1236,1237,1238,1239,1240,1241,1242</th>\n",
       "      <td>1</td>\n",
       "    </tr>\n",
       "    <tr>\n",
       "      <th>1121,1122</th>\n",
       "      <td>1</td>\n",
       "    </tr>\n",
       "    <tr>\n",
       "      <th>1328</th>\n",
       "      <td>1</td>\n",
       "    </tr>\n",
       "    <tr>\n",
       "      <th>317,338,352,361,377,380,383,410,413,417,427,437,440,442,451,457,482,491,492,1086,1205,1208,1212,1237,1260,1261,1263,1271,1276,1313,1314,1343,1344,1367,1368,1369,1391,1392,1422,1423,1424,1425,1426,1437,1440,1463,1464,1465,1466,1472</th>\n",
       "      <td>1</td>\n",
       "    </tr>\n",
       "    <tr>\n",
       "      <th>425</th>\n",
       "      <td>1</td>\n",
       "    </tr>\n",
       "    <tr>\n",
       "      <th>1270,1310</th>\n",
       "      <td>1</td>\n",
       "    </tr>\n",
       "    <tr>\n",
       "      <th>463</th>\n",
       "      <td>1</td>\n",
       "    </tr>\n",
       "    <tr>\n",
       "      <th>1207,1455</th>\n",
       "      <td>1</td>\n",
       "    </tr>\n",
       "    <tr>\n",
       "      <th>1130,1337,1345,1346,1349,1350,1353,1354,1369</th>\n",
       "      <td>1</td>\n",
       "    </tr>\n",
       "    <tr>\n",
       "      <th>1082</th>\n",
       "      <td>1</td>\n",
       "    </tr>\n",
       "    <tr>\n",
       "      <th>359,401</th>\n",
       "      <td>1</td>\n",
       "    </tr>\n",
       "    <tr>\n",
       "      <th>323,329,330,348,361,384,387,414,415,439,446,456,457,458,459,469,471,486,487,488,492,498,1082,1083,1085,1089,1090,1091,1095,1121,1124,1132,1135,1205,1208,1221,1270,1275,1278,1280,1281,1282,1283,1293,1294,1295,1296,1297,1306,1312,1314,1318,1337,1339,1346,1347,1348,1353,1354,1374,1385,1386,1387,1388,1389,1420,1439,1449,1450,1451,1452,1453,1454,1455,1458,1459,1460,1461,1462,1463,1464,1465,1467,1468,1469,1470,1471,1472,1473,1474,1476,1477,1479</th>\n",
       "      <td>1</td>\n",
       "    </tr>\n",
       "    <tr>\n",
       "      <th>495,1425</th>\n",
       "      <td>1</td>\n",
       "    </tr>\n",
       "    <tr>\n",
       "      <th>1424,1426</th>\n",
       "      <td>1</td>\n",
       "    </tr>\n",
       "    <tr>\n",
       "      <th>1274,1275,1276,1277,1303,1304,1305,1306,1307,1308,1309,1310,1311,1312,1313,1314,1315,1316,1317,1318,1319,1320,1321,1345,1346,1347,1348,1349,1350,1351,1352,1353,1354,1420,1421,1422,1423,1424,1425,1426,1427</th>\n",
       "      <td>1</td>\n",
       "    </tr>\n",
       "    <tr>\n",
       "      <th>1486,1516,1517,1518</th>\n",
       "      <td>1</td>\n",
       "    </tr>\n",
       "    <tr>\n",
       "      <th>302,303,305,313,314,319,320,322,331,332,355,356,360,374,377,395,396,410,411,434,445,446,448,477,478,479,488,496,497,499,500,1091,1269,1284,1285,1289,1305,1307,1309,1310,1316,1317,1319,1320,1334,1335,1343,1351,1352,1353,1372,1391,1392,1394,1395,1396,1398,1399</th>\n",
       "      <td>1</td>\n",
       "    </tr>\n",
       "    <tr>\n",
       "      <th>1455,1474</th>\n",
       "      <td>1</td>\n",
       "    </tr>\n",
       "  </tbody>\n",
       "</table>\n",
       "<p>339 rows × 1 columns</p>\n",
       "</div>"
      ],
      "text/plain": [
       "                                                    cluster_nodes\n",
       "1273                                                            9\n",
       "1458                                                            6\n",
       "1364                                                            6\n",
       "304                                                             6\n",
       "1450                                                            5\n",
       "1270                                                            5\n",
       "1479                                                            5\n",
       "1530,1531                                                       5\n",
       "1468,1469                                                       4\n",
       "1267                                                            4\n",
       "1284,1285,1286                                                  4\n",
       "1449                                                            4\n",
       "1278                                                            4\n",
       "1275                                                            4\n",
       "1448                                                            4\n",
       "1436                                                            4\n",
       "1258                                                            3\n",
       "411,412                                                         3\n",
       "1462                                                            3\n",
       "1422,1423                                                       3\n",
       "1439                                                            3\n",
       "1421,1422                                                       3\n",
       "1387                                                            3\n",
       "1343,1344                                                       3\n",
       "1495                                                            3\n",
       "1445                                                            3\n",
       "1297,1298                                                       3\n",
       "1261                                                            3\n",
       "1532                                                            3\n",
       "1505,1506                                                       3\n",
       "...                                                           ...\n",
       "305,308,309,311,312,313,314,317,318,319,320,322...              1\n",
       "1317,1335                                                       1\n",
       "1484                                                            1\n",
       "449                                                             1\n",
       "394,1091,1096,1124,1126,1127,1128,1129,1130,113...              1\n",
       "1310                                                            1\n",
       "331,332,333,334,335,336,337,338,340,347,348,349...              1\n",
       "374,451                                                         1\n",
       "1348,1422                                                       1\n",
       "303,307,313,324,326,327,329,333,334,335,336,337...              1\n",
       "316,318,320,331,349,354,362,364,373,376,378,380...              1\n",
       "433,1230                                                        1\n",
       "313,314,315,316,317,318,319,320,322,323,324,326...              1\n",
       "1121,1122                                                       1\n",
       "1328                                                            1\n",
       "317,338,352,361,377,380,383,410,413,417,427,437...              1\n",
       "425                                                             1\n",
       "1270,1310                                                       1\n",
       "463                                                             1\n",
       "1207,1455                                                       1\n",
       "1130,1337,1345,1346,1349,1350,1353,1354,1369                    1\n",
       "1082                                                            1\n",
       "359,401                                                         1\n",
       "323,329,330,348,361,384,387,414,415,439,446,456...              1\n",
       "495,1425                                                        1\n",
       "1424,1426                                                       1\n",
       "1274,1275,1276,1277,1303,1304,1305,1306,1307,13...              1\n",
       "1486,1516,1517,1518                                             1\n",
       "302,303,305,313,314,319,320,322,331,332,355,356...              1\n",
       "1455,1474                                                       1\n",
       "\n",
       "[339 rows x 1 columns]"
      ]
     },
     "execution_count": 20,
     "metadata": {},
     "output_type": "execute_result"
    }
   ],
   "source": [
    "#pd.set_option('display.max_rows', None)\n",
    "#accre_jobs_2020_failed_prod.cluster_nodes.value_counts()\n",
    "accre_jobs_2020_failed_prod['cluster_nodes'].value_counts().to_frame()"
   ]
  },
  {
   "cell_type": "code",
   "execution_count": 37,
   "metadata": {},
   "outputs": [],
   "source": [
    "def node_list_count (cluster_nodes, x):\n",
    "    \"\"\"This function is to count the number of occurence of single nodes in cluster nodes.\"\"\"\n",
    "    count = 0\n",
    "    if (element == x):\n",
    "        count = count + 1            \n",
    "    return count "
   ]
  },
  {
   "cell_type": "code",
   "execution_count": 43,
   "metadata": {},
   "outputs": [],
   "source": [
    "def countX(cluster_nodes, x): \n",
    "    count = 0\n",
    "    for ele in lst: \n",
    "        if (ele == x): \n",
    "            count = count + 1\n",
    "    return count"
   ]
  },
  {
   "cell_type": "code",
   "execution_count": 45,
   "metadata": {},
   "outputs": [
    {
     "ename": "NameError",
     "evalue": "name 'lst' is not defined",
     "output_type": "error",
     "traceback": [
      "\u001b[0;31m---------------------------------------------------------------------------\u001b[0m",
      "\u001b[0;31mNameError\u001b[0m                                 Traceback (most recent call last)",
      "\u001b[0;32m<ipython-input-45-74c269c90ce4>\u001b[0m in \u001b[0;36m<module>\u001b[0;34m\u001b[0m\n\u001b[0;32m----> 1\u001b[0;31m \u001b[0mcountX\u001b[0m\u001b[0;34m(\u001b[0m\u001b[0;34m'cluster_nodes'\u001b[0m\u001b[0;34m,\u001b[0m \u001b[0;36m1273\u001b[0m\u001b[0;34m)\u001b[0m\u001b[0;34m\u001b[0m\u001b[0;34m\u001b[0m\u001b[0m\n\u001b[0m",
      "\u001b[0;32m<ipython-input-43-7e40c638363a>\u001b[0m in \u001b[0;36mcountX\u001b[0;34m(cluster_nodes, x)\u001b[0m\n\u001b[1;32m      1\u001b[0m \u001b[0;32mdef\u001b[0m \u001b[0mcountX\u001b[0m\u001b[0;34m(\u001b[0m\u001b[0mcluster_nodes\u001b[0m\u001b[0;34m,\u001b[0m \u001b[0mx\u001b[0m\u001b[0;34m)\u001b[0m\u001b[0;34m:\u001b[0m\u001b[0;34m\u001b[0m\u001b[0;34m\u001b[0m\u001b[0m\n\u001b[1;32m      2\u001b[0m     \u001b[0mcount\u001b[0m \u001b[0;34m=\u001b[0m \u001b[0;36m0\u001b[0m\u001b[0;34m\u001b[0m\u001b[0;34m\u001b[0m\u001b[0m\n\u001b[0;32m----> 3\u001b[0;31m     \u001b[0;32mfor\u001b[0m \u001b[0mele\u001b[0m \u001b[0;32min\u001b[0m \u001b[0mlst\u001b[0m\u001b[0;34m:\u001b[0m\u001b[0;34m\u001b[0m\u001b[0;34m\u001b[0m\u001b[0m\n\u001b[0m\u001b[1;32m      4\u001b[0m         \u001b[0;32mif\u001b[0m \u001b[0;34m(\u001b[0m\u001b[0mele\u001b[0m \u001b[0;34m==\u001b[0m \u001b[0mx\u001b[0m\u001b[0;34m)\u001b[0m\u001b[0;34m:\u001b[0m\u001b[0;34m\u001b[0m\u001b[0;34m\u001b[0m\u001b[0m\n\u001b[1;32m      5\u001b[0m             \u001b[0mcount\u001b[0m \u001b[0;34m=\u001b[0m \u001b[0mcount\u001b[0m \u001b[0;34m+\u001b[0m \u001b[0;36m1\u001b[0m\u001b[0;34m\u001b[0m\u001b[0;34m\u001b[0m\u001b[0m\n",
      "\u001b[0;31mNameError\u001b[0m: name 'lst' is not defined"
     ]
    }
   ],
   "source": [
    "countX('cluster_nodes', 1273)"
   ]
  },
  {
   "cell_type": "code",
   "execution_count": 41,
   "metadata": {},
   "outputs": [
    {
     "ename": "NameError",
     "evalue": "name 'cluster_nodes' is not defined",
     "output_type": "error",
     "traceback": [
      "\u001b[0;31m---------------------------------------------------------------------------\u001b[0m",
      "\u001b[0;31mNameError\u001b[0m                                 Traceback (most recent call last)",
      "\u001b[0;32m<ipython-input-41-4967e0bd215e>\u001b[0m in \u001b[0;36m<module>\u001b[0;34m\u001b[0m\n\u001b[0;32m----> 1\u001b[0;31m \u001b[0mnode_list_count\u001b[0m\u001b[0;34m(\u001b[0m\u001b[0mcluster_nodes\u001b[0m\u001b[0;34m,\u001b[0m \u001b[0;34m'1273'\u001b[0m\u001b[0;34m)\u001b[0m\u001b[0;34m\u001b[0m\u001b[0;34m\u001b[0m\u001b[0m\n\u001b[0m",
      "\u001b[0;31mNameError\u001b[0m: name 'cluster_nodes' is not defined"
     ]
    }
   ],
   "source": [
    "node_list_count(cluster_nodes, '1273')"
   ]
  },
  {
   "cell_type": "code",
   "execution_count": null,
   "metadata": {},
   "outputs": [],
   "source": []
  },
  {
   "cell_type": "code",
   "execution_count": null,
   "metadata": {},
   "outputs": [],
   "source": []
  },
  {
   "cell_type": "code",
   "execution_count": null,
   "metadata": {},
   "outputs": [],
   "source": []
  },
  {
   "cell_type": "code",
   "execution_count": null,
   "metadata": {},
   "outputs": [],
   "source": [
    "def node_list_count (cluster_nodes, x):\n",
    "    \"\"\"This function is to count the number of occurence of single nodes in cluster nodes.\"\"\"\n",
    "    count = 0\n",
    "    if len(cluster_nodes) = 1:\n",
    "      for element in cluster_nodes:  \n",
    "        if (element == x):\n",
    "            count = count + 1            \n",
    "    return count "
   ]
  },
  {
   "cell_type": "code",
   "execution_count": null,
   "metadata": {},
   "outputs": [],
   "source": []
  },
  {
   "cell_type": "code",
   "execution_count": null,
   "metadata": {},
   "outputs": [],
   "source": []
  },
  {
   "cell_type": "code",
   "execution_count": null,
   "metadata": {},
   "outputs": [],
   "source": []
  },
  {
   "cell_type": "markdown",
   "metadata": {},
   "source": [
    "\"\"\"To get a list of all the rows of all nodes and cluster nodes. Nb= cluster nodes are in [ ]\"\"\"\n",
    "### Create an empty list \n",
    "Row_list =[] \n",
    "  \n",
    "### Iterate over each row \n",
    "for index, rows in accre_jobs_2020_failed_prod.iterrows(): \n",
    "    # Create list for the current row \n",
    "    cluster_nodes_list =[rows.cluster_nodes] \n",
    "      \n",
    "    # append the list to the final list \n",
    "    Row_list.append(cluster_nodes_list) \n",
    "  \n",
    "### Print the list \n",
    "print(Row_list)"
   ]
  },
  {
   "cell_type": "markdown",
   "metadata": {},
   "source": [
    "\"\"\"To remove [ ] in the list\"\"\"\n",
    "flatten_matrix = [ ] \n",
    "  \n",
    "for sublist in Row_list: \n",
    "    for val in sublist: \n",
    "        flatten_matrix.append(val) \n",
    "          \n",
    "print(flatten_matrix) "
   ]
  },
  {
   "cell_type": "code",
   "execution_count": 22,
   "metadata": {},
   "outputs": [],
   "source": [
    "###to remove ' ' between all numbers\n",
    "#no_commas = \",\".join(flatten_matrix)"
   ]
  },
  {
   "cell_type": "code",
   "execution_count": null,
   "metadata": {},
   "outputs": [],
   "source": [
    "### to find all numbers that are the same\n",
    "#find_numbers = re.findall(r\"\\d+\", no_commas)"
   ]
  },
  {
   "cell_type": "code",
   "execution_count": null,
   "metadata": {},
   "outputs": [],
   "source": [
    "### to count the list of numbers\n",
    "#from collections import Counter\n",
    "#count_nodes = Counter(find_numbers)"
   ]
  },
  {
   "cell_type": "code",
   "execution_count": null,
   "metadata": {},
   "outputs": [],
   "source": [
    "### I need it to make a series\n",
    "#from pandas import Series\n",
    "#series_nodes = Series(count_nodes)\n",
    "#series_nodes"
   ]
  },
  {
   "cell_type": "code",
   "execution_count": null,
   "metadata": {},
   "outputs": [],
   "source": [
    "#type(series_nodes)"
   ]
  },
  {
   "cell_type": "code",
   "execution_count": null,
   "metadata": {},
   "outputs": [],
   "source": [
    "#series_nodes.to_frame()"
   ]
  },
  {
   "cell_type": "code",
   "execution_count": null,
   "metadata": {},
   "outputs": [],
   "source": [
    "#nodes_index = d.reset_index()"
   ]
  },
  {
   "cell_type": "code",
   "execution_count": null,
   "metadata": {},
   "outputs": [],
   "source": [
    "#tried to rename the columns but it didn't work because \n",
    "#final_nodes = nodes_index.rename(columns = {'nodes_number':'fail_Counts'})"
   ]
  },
  {
   "cell_type": "code",
   "execution_count": null,
   "metadata": {},
   "outputs": [],
   "source": [
    "#final_nodes.plot(kind='bar');"
   ]
  }
 ],
 "metadata": {
  "kernelspec": {
   "display_name": "Python 3",
   "language": "python",
   "name": "python3"
  },
  "language_info": {
   "codemirror_mode": {
    "name": "ipython",
    "version": 3
   },
   "file_extension": ".py",
   "mimetype": "text/x-python",
   "name": "python",
   "nbconvert_exporter": "python",
   "pygments_lexer": "ipython3",
   "version": "3.7.3"
  }
 },
 "nbformat": 4,
 "nbformat_minor": 2
}

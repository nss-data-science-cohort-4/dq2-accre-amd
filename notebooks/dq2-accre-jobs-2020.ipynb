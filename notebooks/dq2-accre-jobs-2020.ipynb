{
 "cells": [
  {
   "cell_type": "markdown",
   "metadata": {
    "toc": true
   },
   "source": [
    "<h1>Table of Contents<span class=\"tocSkip\"></span></h1>\n",
    "<div class=\"toc\"><ul class=\"toc-item\"><li><span><a href=\"#Importing-the-data\" data-toc-modified-id=\"Importing-the-data-1\"><span class=\"toc-item-num\">1&nbsp;&nbsp;</span>Importing the data</a></span><ul class=\"toc-item\"><li><span><a href=\"#Preprocessing-the-file\" data-toc-modified-id=\"Preprocessing-the-file-1.1\"><span class=\"toc-item-num\">1.1&nbsp;&nbsp;</span>Preprocessing the file</a></span></li></ul></li><li><span><a href=\"#Data-Preparation\" data-toc-modified-id=\"Data-Preparation-2\"><span class=\"toc-item-num\">2&nbsp;&nbsp;</span>Data Preparation</a></span><ul class=\"toc-item\"><li><span><a href=\"#Focusing-on-&quot;production&quot;-partition-only\" data-toc-modified-id=\"Focusing-on-&quot;production&quot;-partition-only-2.1\"><span class=\"toc-item-num\">2.1&nbsp;&nbsp;</span>Focusing on \"production\" partition only</a></span></li><li><span><a href=\"#Converting-Job-times-to-total-seconds\" data-toc-modified-id=\"Converting-Job-times-to-total-seconds-2.2\"><span class=\"toc-item-num\">2.2&nbsp;&nbsp;</span>Converting Job times to total seconds</a></span></li></ul></li></ul></div>"
   ]
  },
  {
   "cell_type": "code",
   "execution_count": 1,
   "metadata": {},
   "outputs": [],
   "source": [
    "import pandas as pd\n",
    "\n",
    "# For preprocessing\n",
    "import csv\n",
    "from os import path\n",
    "from pathlib import Path\n",
    "\n",
    "# Set the project root folder\n",
    "root_dir = Path().absolute() # wherever this notebook file is located"
   ]
  },
  {
   "cell_type": "markdown",
   "metadata": {},
   "source": [
    "## Importing the data"
   ]
  },
  {
   "cell_type": "markdown",
   "metadata": {},
   "source": [
    "This import has an error so we will wrap it in a Try-Except block first."
   ]
  },
  {
   "cell_type": "code",
   "execution_count": 2,
   "metadata": {},
   "outputs": [
    {
     "name": "stdout",
     "output_type": "stream",
     "text": [
      "Error tokenizing data. C error: Expected 13 fields in line 3461, saw 15\n",
      "\n"
     ]
    }
   ],
   "source": [
    "try:\n",
    "    data = pd.read_csv('../data/accre-jobs-2020.csv')\n",
    "except Exception as error:\n",
    "    print(error)"
   ]
  },
  {
   "cell_type": "markdown",
   "metadata": {},
   "source": [
    "Looks like the error is on line index 3461 (This is 1-based so with our 0-based indexing, that would be 3460.)\n",
    "\n",
    "Looking into the file directly, it appears that the import creates some errors because some of the data in that line are formatted as `[1,2,3,4]`. The commas here are tricking the CSV parser in thinking that they should be multiple columns instead of one single column. Let's fix that!\n",
    "\n",
    "If we put that last column within quotes as `\"[1,2,3,4]\"`, the csv parser would be able to interpret it as one column."
   ]
  },
  {
   "cell_type": "markdown",
   "metadata": {},
   "source": [
    "### Preprocessing the file"
   ]
  },
  {
   "cell_type": "markdown",
   "metadata": {},
   "source": [
    "Here, we read the original file, go through each line, and up to the 13th column, we keep them as is. Beyond the 13th column, we wrap all the values within quotes. We then write this into a new file that we will use as our dataset with Pandas.\n",
    "\n",
    "**This line might take a while to run on the first time!**"
   ]
  },
  {
   "cell_type": "code",
   "execution_count": 3,
   "metadata": {},
   "outputs": [
    {
     "name": "stdout",
     "output_type": "stream",
     "text": [
      "Reading from previously processed file...\n"
     ]
    },
    {
     "data": {
      "text/html": [
       "<div>\n",
       "<style scoped>\n",
       "    .dataframe tbody tr th:only-of-type {\n",
       "        vertical-align: middle;\n",
       "    }\n",
       "\n",
       "    .dataframe tbody tr th {\n",
       "        vertical-align: top;\n",
       "    }\n",
       "\n",
       "    .dataframe thead th {\n",
       "        text-align: right;\n",
       "    }\n",
       "</style>\n",
       "<table border=\"1\" class=\"dataframe\">\n",
       "  <thead>\n",
       "    <tr style=\"text-align: right;\">\n",
       "      <th></th>\n",
       "      <th>JOBID</th>\n",
       "      <th>ACCOUNT</th>\n",
       "      <th>USER</th>\n",
       "      <th>REQMEM</th>\n",
       "      <th>USEDMEM</th>\n",
       "      <th>REQTIME</th>\n",
       "      <th>USEDTIME</th>\n",
       "      <th>NODES</th>\n",
       "      <th>CPUS</th>\n",
       "      <th>PARTITION</th>\n",
       "      <th>EXITCODE</th>\n",
       "      <th>STATE</th>\n",
       "      <th>NODELIST</th>\n",
       "    </tr>\n",
       "  </thead>\n",
       "  <tbody>\n",
       "    <tr>\n",
       "      <th>0</th>\n",
       "      <td>15925210</td>\n",
       "      <td>treviso</td>\n",
       "      <td>arabella</td>\n",
       "      <td>122880Mn</td>\n",
       "      <td>65973.49M</td>\n",
       "      <td>13-18:00:00</td>\n",
       "      <td>13-18:00:28</td>\n",
       "      <td>1</td>\n",
       "      <td>24</td>\n",
       "      <td>production</td>\n",
       "      <td>0:0</td>\n",
       "      <td>COMPLETED</td>\n",
       "      <td>cn1531</td>\n",
       "    </tr>\n",
       "    <tr>\n",
       "      <th>1</th>\n",
       "      <td>15861126</td>\n",
       "      <td>treviso</td>\n",
       "      <td>arabella</td>\n",
       "      <td>122880Mn</td>\n",
       "      <td>67181.12M</td>\n",
       "      <td>13-18:00:00</td>\n",
       "      <td>12-14:50:56</td>\n",
       "      <td>1</td>\n",
       "      <td>24</td>\n",
       "      <td>production</td>\n",
       "      <td>0:0</td>\n",
       "      <td>COMPLETED</td>\n",
       "      <td>cn1441</td>\n",
       "    </tr>\n",
       "    <tr>\n",
       "      <th>2</th>\n",
       "      <td>15861125</td>\n",
       "      <td>treviso</td>\n",
       "      <td>arabella</td>\n",
       "      <td>122880Mn</td>\n",
       "      <td>69111.86M</td>\n",
       "      <td>13-18:00:00</td>\n",
       "      <td>13-18:00:20</td>\n",
       "      <td>1</td>\n",
       "      <td>24</td>\n",
       "      <td>production</td>\n",
       "      <td>0:0</td>\n",
       "      <td>COMPLETED</td>\n",
       "      <td>cn1464</td>\n",
       "    </tr>\n",
       "    <tr>\n",
       "      <th>3</th>\n",
       "      <td>16251645</td>\n",
       "      <td>treviso</td>\n",
       "      <td>arabella</td>\n",
       "      <td>122880Mn</td>\n",
       "      <td>65317.33M</td>\n",
       "      <td>13-18:00:00</td>\n",
       "      <td>12-03:50:32</td>\n",
       "      <td>1</td>\n",
       "      <td>24</td>\n",
       "      <td>production</td>\n",
       "      <td>0:0</td>\n",
       "      <td>COMPLETED</td>\n",
       "      <td>cn1473</td>\n",
       "    </tr>\n",
       "    <tr>\n",
       "      <th>4</th>\n",
       "      <td>16251646</td>\n",
       "      <td>treviso</td>\n",
       "      <td>arabella</td>\n",
       "      <td>122880Mn</td>\n",
       "      <td>65876.11M</td>\n",
       "      <td>13-18:00:00</td>\n",
       "      <td>13-18:00:03</td>\n",
       "      <td>1</td>\n",
       "      <td>24</td>\n",
       "      <td>production</td>\n",
       "      <td>0:0</td>\n",
       "      <td>COMPLETED</td>\n",
       "      <td>cn1440</td>\n",
       "    </tr>\n",
       "  </tbody>\n",
       "</table>\n",
       "</div>"
      ],
      "text/plain": [
       "      JOBID  ACCOUNT      USER    REQMEM    USEDMEM      REQTIME     USEDTIME  \\\n",
       "0  15925210  treviso  arabella  122880Mn  65973.49M  13-18:00:00  13-18:00:28   \n",
       "1  15861126  treviso  arabella  122880Mn  67181.12M  13-18:00:00  12-14:50:56   \n",
       "2  15861125  treviso  arabella  122880Mn  69111.86M  13-18:00:00  13-18:00:20   \n",
       "3  16251645  treviso  arabella  122880Mn  65317.33M  13-18:00:00  12-03:50:32   \n",
       "4  16251646  treviso  arabella  122880Mn  65876.11M  13-18:00:00  13-18:00:03   \n",
       "\n",
       "   NODES  CPUS   PARTITION EXITCODE      STATE NODELIST  \n",
       "0      1    24  production      0:0  COMPLETED   cn1531  \n",
       "1      1    24  production      0:0  COMPLETED   cn1441  \n",
       "2      1    24  production      0:0  COMPLETED   cn1464  \n",
       "3      1    24  production      0:0  COMPLETED   cn1473  \n",
       "4      1    24  production      0:0  COMPLETED   cn1440  "
      ]
     },
     "metadata": {},
     "output_type": "display_data"
    }
   ],
   "source": [
    "try:\n",
    "    # The data might have already been pre-processed previoulsy\n",
    "    # If not, this line would generate a \"No such file\" error so we would fallback to the exception below\n",
    "    data = pd.read_csv('../data/accre-jobs-2020-processed.csv')\n",
    "    print('Reading from previously processed file...')\n",
    "    display(data.head())\n",
    "    \n",
    "except FileNotFoundError:\n",
    "    \n",
    "    print(\"Preprocessed file not found. Creating a new one. Please wait...\")\n",
    "    \n",
    "    # Open 2 files: One is the source and one is the destination\n",
    "    with open(path.join(root_dir, '..', 'data', 'accre-jobs-2020.csv'), mode='r') as source,\\\n",
    "    open(path.join(root_dir, '..', 'data', 'accre-jobs-2020-processed.csv'), mode='w', newline='') as destination:\n",
    "\n",
    "        # Set file reader and file writer on the source and destination\n",
    "        reader = csv.reader(source)\n",
    "        writer = csv.writer(destination)\n",
    "\n",
    "        # Go through each line in the source\n",
    "        for line in reader:\n",
    "            # Create a new matching line with the last column within quotes\n",
    "            # This will make it into a single column if there are more commas\n",
    "            newline = line[:12] + [\",\".join(line[12:])]\n",
    "            # Write to the destination file\n",
    "            writer.writerow(newline)\n",
    "\n",
    "    # Try importing as normal again on the newly created destination file\n",
    "    data = pd.read_csv('../data/accre-jobs-2020-processed.csv')\n",
    "    display(data.head())\n",
    "\n",
    "except Error as error:\n",
    "    \n",
    "    print(\"Something went wrong:\", error)"
   ]
  },
  {
   "cell_type": "markdown",
   "metadata": {},
   "source": [
    "Now, we can work on that destination file instead"
   ]
  },
  {
   "cell_type": "code",
   "execution_count": 4,
   "metadata": {},
   "outputs": [],
   "source": [
    "# Try importing as normal again on the newly created destination file\n",
    "# data = pd.read_csv('../data/accre-jobs-2020-processed.csv')\n",
    "# data.head()"
   ]
  },
  {
   "cell_type": "markdown",
   "metadata": {},
   "source": [
    "Let's look at line 3461 (Index 3460) to confirm."
   ]
  },
  {
   "cell_type": "code",
   "execution_count": 5,
   "metadata": {},
   "outputs": [
    {
     "data": {
      "text/html": [
       "<div>\n",
       "<style scoped>\n",
       "    .dataframe tbody tr th:only-of-type {\n",
       "        vertical-align: middle;\n",
       "    }\n",
       "\n",
       "    .dataframe tbody tr th {\n",
       "        vertical-align: top;\n",
       "    }\n",
       "\n",
       "    .dataframe thead th {\n",
       "        text-align: right;\n",
       "    }\n",
       "</style>\n",
       "<table border=\"1\" class=\"dataframe\">\n",
       "  <thead>\n",
       "    <tr style=\"text-align: right;\">\n",
       "      <th></th>\n",
       "      <th>JOBID</th>\n",
       "      <th>ACCOUNT</th>\n",
       "      <th>USER</th>\n",
       "      <th>REQMEM</th>\n",
       "      <th>USEDMEM</th>\n",
       "      <th>REQTIME</th>\n",
       "      <th>USEDTIME</th>\n",
       "      <th>NODES</th>\n",
       "      <th>CPUS</th>\n",
       "      <th>PARTITION</th>\n",
       "      <th>EXITCODE</th>\n",
       "      <th>STATE</th>\n",
       "      <th>NODELIST</th>\n",
       "    </tr>\n",
       "  </thead>\n",
       "  <tbody>\n",
       "    <tr>\n",
       "      <th>3460</th>\n",
       "      <td>17050901_91</td>\n",
       "      <td>winged</td>\n",
       "      <td>lavonda</td>\n",
       "      <td>4096Mn</td>\n",
       "      <td>669.61M</td>\n",
       "      <td>12:00:00</td>\n",
       "      <td>00:06:05</td>\n",
       "      <td>4</td>\n",
       "      <td>1</td>\n",
       "      <td>production</td>\n",
       "      <td>0:0</td>\n",
       "      <td>COMPLETED</td>\n",
       "      <td>cn[449,463,911,913]</td>\n",
       "    </tr>\n",
       "  </tbody>\n",
       "</table>\n",
       "</div>"
      ],
      "text/plain": [
       "            JOBID ACCOUNT     USER  REQMEM  USEDMEM   REQTIME  USEDTIME  \\\n",
       "3460  17050901_91  winged  lavonda  4096Mn  669.61M  12:00:00  00:06:05   \n",
       "\n",
       "      NODES  CPUS   PARTITION EXITCODE      STATE             NODELIST  \n",
       "3460      4     1  production      0:0  COMPLETED  cn[449,463,911,913]  "
      ]
     },
     "execution_count": 5,
     "metadata": {},
     "output_type": "execute_result"
    }
   ],
   "source": [
    "# Check the previously problematic line\n",
    "data.iloc[[3460]]"
   ]
  },
  {
   "cell_type": "markdown",
   "metadata": {},
   "source": [
    "Yep, looks like it is imported normally. We are good to go!"
   ]
  },
  {
   "cell_type": "markdown",
   "metadata": {},
   "source": [
    "## Data Preparation"
   ]
  },
  {
   "cell_type": "markdown",
   "metadata": {},
   "source": [
    "First, let's look at the quick summary"
   ]
  },
  {
   "cell_type": "code",
   "execution_count": 6,
   "metadata": {},
   "outputs": [
    {
     "name": "stdout",
     "output_type": "stream",
     "text": [
      "<class 'pandas.core.frame.DataFrame'>\n",
      "RangeIndex: 3816290 entries, 0 to 3816289\n",
      "Data columns (total 13 columns):\n",
      " #   Column     Dtype \n",
      "---  ------     ----- \n",
      " 0   JOBID      object\n",
      " 1   ACCOUNT    object\n",
      " 2   USER       object\n",
      " 3   REQMEM     object\n",
      " 4   USEDMEM    object\n",
      " 5   REQTIME    object\n",
      " 6   USEDTIME   object\n",
      " 7   NODES      int64 \n",
      " 8   CPUS       int64 \n",
      " 9   PARTITION  object\n",
      " 10  EXITCODE   object\n",
      " 11  STATE      object\n",
      " 12  NODELIST   object\n",
      "dtypes: int64(2), object(11)\n",
      "memory usage: 378.5+ MB\n"
     ]
    }
   ],
   "source": [
    "data.info()"
   ]
  },
  {
   "cell_type": "markdown",
   "metadata": {},
   "source": [
    "### Focusing on \"production\" partition only"
   ]
  },
  {
   "cell_type": "markdown",
   "metadata": {},
   "source": [
    "We really only want to look at the \"production\" partition so rows with other partitions should be removed."
   ]
  },
  {
   "cell_type": "code",
   "execution_count": 7,
   "metadata": {},
   "outputs": [
    {
     "data": {
      "text/html": [
       "<div>\n",
       "<style scoped>\n",
       "    .dataframe tbody tr th:only-of-type {\n",
       "        vertical-align: middle;\n",
       "    }\n",
       "\n",
       "    .dataframe tbody tr th {\n",
       "        vertical-align: top;\n",
       "    }\n",
       "\n",
       "    .dataframe thead th {\n",
       "        text-align: right;\n",
       "    }\n",
       "</style>\n",
       "<table border=\"1\" class=\"dataframe\">\n",
       "  <thead>\n",
       "    <tr style=\"text-align: right;\">\n",
       "      <th></th>\n",
       "      <th>JOBID</th>\n",
       "      <th>ACCOUNT</th>\n",
       "      <th>USER</th>\n",
       "      <th>REQMEM</th>\n",
       "      <th>USEDMEM</th>\n",
       "      <th>REQTIME</th>\n",
       "      <th>USEDTIME</th>\n",
       "      <th>NODES</th>\n",
       "      <th>CPUS</th>\n",
       "      <th>PARTITION</th>\n",
       "      <th>EXITCODE</th>\n",
       "      <th>STATE</th>\n",
       "      <th>NODELIST</th>\n",
       "    </tr>\n",
       "  </thead>\n",
       "  <tbody>\n",
       "    <tr>\n",
       "      <th>0</th>\n",
       "      <td>15925210</td>\n",
       "      <td>treviso</td>\n",
       "      <td>arabella</td>\n",
       "      <td>122880Mn</td>\n",
       "      <td>65973.49M</td>\n",
       "      <td>13-18:00:00</td>\n",
       "      <td>13-18:00:28</td>\n",
       "      <td>1</td>\n",
       "      <td>24</td>\n",
       "      <td>production</td>\n",
       "      <td>0:0</td>\n",
       "      <td>COMPLETED</td>\n",
       "      <td>cn1531</td>\n",
       "    </tr>\n",
       "    <tr>\n",
       "      <th>1</th>\n",
       "      <td>15861126</td>\n",
       "      <td>treviso</td>\n",
       "      <td>arabella</td>\n",
       "      <td>122880Mn</td>\n",
       "      <td>67181.12M</td>\n",
       "      <td>13-18:00:00</td>\n",
       "      <td>12-14:50:56</td>\n",
       "      <td>1</td>\n",
       "      <td>24</td>\n",
       "      <td>production</td>\n",
       "      <td>0:0</td>\n",
       "      <td>COMPLETED</td>\n",
       "      <td>cn1441</td>\n",
       "    </tr>\n",
       "    <tr>\n",
       "      <th>2</th>\n",
       "      <td>15861125</td>\n",
       "      <td>treviso</td>\n",
       "      <td>arabella</td>\n",
       "      <td>122880Mn</td>\n",
       "      <td>69111.86M</td>\n",
       "      <td>13-18:00:00</td>\n",
       "      <td>13-18:00:20</td>\n",
       "      <td>1</td>\n",
       "      <td>24</td>\n",
       "      <td>production</td>\n",
       "      <td>0:0</td>\n",
       "      <td>COMPLETED</td>\n",
       "      <td>cn1464</td>\n",
       "    </tr>\n",
       "    <tr>\n",
       "      <th>3</th>\n",
       "      <td>16251645</td>\n",
       "      <td>treviso</td>\n",
       "      <td>arabella</td>\n",
       "      <td>122880Mn</td>\n",
       "      <td>65317.33M</td>\n",
       "      <td>13-18:00:00</td>\n",
       "      <td>12-03:50:32</td>\n",
       "      <td>1</td>\n",
       "      <td>24</td>\n",
       "      <td>production</td>\n",
       "      <td>0:0</td>\n",
       "      <td>COMPLETED</td>\n",
       "      <td>cn1473</td>\n",
       "    </tr>\n",
       "    <tr>\n",
       "      <th>4</th>\n",
       "      <td>16251646</td>\n",
       "      <td>treviso</td>\n",
       "      <td>arabella</td>\n",
       "      <td>122880Mn</td>\n",
       "      <td>65876.11M</td>\n",
       "      <td>13-18:00:00</td>\n",
       "      <td>13-18:00:03</td>\n",
       "      <td>1</td>\n",
       "      <td>24</td>\n",
       "      <td>production</td>\n",
       "      <td>0:0</td>\n",
       "      <td>COMPLETED</td>\n",
       "      <td>cn1440</td>\n",
       "    </tr>\n",
       "  </tbody>\n",
       "</table>\n",
       "</div>"
      ],
      "text/plain": [
       "      JOBID  ACCOUNT      USER    REQMEM    USEDMEM      REQTIME     USEDTIME  \\\n",
       "0  15925210  treviso  arabella  122880Mn  65973.49M  13-18:00:00  13-18:00:28   \n",
       "1  15861126  treviso  arabella  122880Mn  67181.12M  13-18:00:00  12-14:50:56   \n",
       "2  15861125  treviso  arabella  122880Mn  69111.86M  13-18:00:00  13-18:00:20   \n",
       "3  16251645  treviso  arabella  122880Mn  65317.33M  13-18:00:00  12-03:50:32   \n",
       "4  16251646  treviso  arabella  122880Mn  65876.11M  13-18:00:00  13-18:00:03   \n",
       "\n",
       "   NODES  CPUS   PARTITION EXITCODE      STATE NODELIST  \n",
       "0      1    24  production      0:0  COMPLETED   cn1531  \n",
       "1      1    24  production      0:0  COMPLETED   cn1441  \n",
       "2      1    24  production      0:0  COMPLETED   cn1464  \n",
       "3      1    24  production      0:0  COMPLETED   cn1473  \n",
       "4      1    24  production      0:0  COMPLETED   cn1440  "
      ]
     },
     "execution_count": 7,
     "metadata": {},
     "output_type": "execute_result"
    }
   ],
   "source": [
    "data_prod = data.loc[data[\"PARTITION\"] == \"production\"]\n",
    "data_prod.head()"
   ]
  },
  {
   "cell_type": "code",
   "execution_count": 8,
   "metadata": {},
   "outputs": [
    {
     "name": "stdout",
     "output_type": "stream",
     "text": [
      "<class 'pandas.core.frame.DataFrame'>\n",
      "Int64Index: 3311788 entries, 0 to 3816289\n",
      "Data columns (total 13 columns):\n",
      " #   Column     Dtype \n",
      "---  ------     ----- \n",
      " 0   JOBID      object\n",
      " 1   ACCOUNT    object\n",
      " 2   USER       object\n",
      " 3   REQMEM     object\n",
      " 4   USEDMEM    object\n",
      " 5   REQTIME    object\n",
      " 6   USEDTIME   object\n",
      " 7   NODES      int64 \n",
      " 8   CPUS       int64 \n",
      " 9   PARTITION  object\n",
      " 10  EXITCODE   object\n",
      " 11  STATE      object\n",
      " 12  NODELIST   object\n",
      "dtypes: int64(2), object(11)\n",
      "memory usage: 353.7+ MB\n"
     ]
    }
   ],
   "source": [
    "data_prod.info()"
   ]
  },
  {
   "cell_type": "markdown",
   "metadata": {},
   "source": [
    "**How many are production node? Non-production nodes?**"
   ]
  },
  {
   "cell_type": "code",
   "execution_count": 9,
   "metadata": {},
   "outputs": [
    {
     "data": {
      "text/plain": [
       "production              3311788\n",
       "nogpfs                   327652\n",
       "sam                       79151\n",
       "pascal                    48004\n",
       "turing                    39406\n",
       "debug                      6738\n",
       "maxwell                    3348\n",
       "cgw-capra1                   83\n",
       "cgw-dougherty1               72\n",
       "cgw-cqs1                     34\n",
       "cgw-cqs3                      4\n",
       "cgw-vm-qa-flatearth1          4\n",
       "cgw-rocksteady                2\n",
       "devel                         2\n",
       "cgw-tbi01                     2\n",
       "Name: PARTITION, dtype: int64"
      ]
     },
     "execution_count": 9,
     "metadata": {},
     "output_type": "execute_result"
    }
   ],
   "source": [
    "data[\"PARTITION\"].value_counts()"
   ]
  },
  {
   "cell_type": "markdown",
   "metadata": {},
   "source": [
    "### Converting Job times to total seconds"
   ]
  },
  {
   "cell_type": "markdown",
   "metadata": {},
   "source": [
    "Job time is in a format of either `d-hh:mm:ss` or `hh:mm:ss`, it needs to be converted to total seconds"
   ]
  },
  {
   "cell_type": "code",
   "execution_count": 10,
   "metadata": {},
   "outputs": [],
   "source": [
    "def convert_time_to_seconds(time_str):\n",
    "    \"\"\"Convert the given time string d-hh:mm:ss or hh:mm:ss to total seconds.\"\"\"\n",
    "    \n",
    "    # Account for possible errors\n",
    "    try:\n",
    "        \n",
    "        # Initialize all time components to 0\n",
    "        days = hours = minutes = seconds = 0\n",
    "\n",
    "        # Split the time string at the dash mark\n",
    "        time_dash_split = time_str.split(\"-\") # => Either [\"d\", \"hh:mm:ss\"] or [\"hh:mm:ss\"]\n",
    "\n",
    "        # Assign each time element to variables\n",
    "        if len(time_dash_split) > 1: \n",
    "            # Remove the first element from the list and convert to integer and add to days\n",
    "            days += int(time_dash_split.pop(0))\n",
    "\n",
    "        # If here, len(time_dash_split) == 1\n",
    "        # Split the time at the colon marks\n",
    "        time_colon_split = time_dash_split[0].split(\":\") # => [\"hh\", \"mm\", \"ss\"]\n",
    "        seconds += int(time_colon_split.pop())\n",
    "        minutes += int(time_colon_split.pop())\n",
    "        hours += int(time_colon_split.pop())\n",
    "\n",
    "        # Now combine everything together\n",
    "        return (((((days * 24) + hours) * 60) + minutes) * 60) + seconds\n",
    "        \n",
    "    except AttributeError as error:\n",
    "        # Skip everything if the column is already in seconds (assuming one single digit)\n",
    "        return time_str"
   ]
  },
  {
   "cell_type": "markdown",
   "metadata": {},
   "source": [
    "Now, we can convert the time columns to seconds"
   ]
  },
  {
   "cell_type": "code",
   "execution_count": 11,
   "metadata": {},
   "outputs": [
    {
     "data": {
      "text/html": [
       "<div>\n",
       "<style scoped>\n",
       "    .dataframe tbody tr th:only-of-type {\n",
       "        vertical-align: middle;\n",
       "    }\n",
       "\n",
       "    .dataframe tbody tr th {\n",
       "        vertical-align: top;\n",
       "    }\n",
       "\n",
       "    .dataframe thead th {\n",
       "        text-align: right;\n",
       "    }\n",
       "</style>\n",
       "<table border=\"1\" class=\"dataframe\">\n",
       "  <thead>\n",
       "    <tr style=\"text-align: right;\">\n",
       "      <th></th>\n",
       "      <th>JOBID</th>\n",
       "      <th>ACCOUNT</th>\n",
       "      <th>USER</th>\n",
       "      <th>REQMEM</th>\n",
       "      <th>USEDMEM</th>\n",
       "      <th>REQTIME</th>\n",
       "      <th>USEDTIME</th>\n",
       "      <th>NODES</th>\n",
       "      <th>CPUS</th>\n",
       "      <th>PARTITION</th>\n",
       "      <th>EXITCODE</th>\n",
       "      <th>STATE</th>\n",
       "      <th>NODELIST</th>\n",
       "    </tr>\n",
       "  </thead>\n",
       "  <tbody>\n",
       "    <tr>\n",
       "      <th>0</th>\n",
       "      <td>15925210</td>\n",
       "      <td>treviso</td>\n",
       "      <td>arabella</td>\n",
       "      <td>122880Mn</td>\n",
       "      <td>65973.49M</td>\n",
       "      <td>1188000</td>\n",
       "      <td>1188028</td>\n",
       "      <td>1</td>\n",
       "      <td>24</td>\n",
       "      <td>production</td>\n",
       "      <td>0:0</td>\n",
       "      <td>COMPLETED</td>\n",
       "      <td>cn1531</td>\n",
       "    </tr>\n",
       "    <tr>\n",
       "      <th>1</th>\n",
       "      <td>15861126</td>\n",
       "      <td>treviso</td>\n",
       "      <td>arabella</td>\n",
       "      <td>122880Mn</td>\n",
       "      <td>67181.12M</td>\n",
       "      <td>1188000</td>\n",
       "      <td>1090256</td>\n",
       "      <td>1</td>\n",
       "      <td>24</td>\n",
       "      <td>production</td>\n",
       "      <td>0:0</td>\n",
       "      <td>COMPLETED</td>\n",
       "      <td>cn1441</td>\n",
       "    </tr>\n",
       "    <tr>\n",
       "      <th>2</th>\n",
       "      <td>15861125</td>\n",
       "      <td>treviso</td>\n",
       "      <td>arabella</td>\n",
       "      <td>122880Mn</td>\n",
       "      <td>69111.86M</td>\n",
       "      <td>1188000</td>\n",
       "      <td>1188020</td>\n",
       "      <td>1</td>\n",
       "      <td>24</td>\n",
       "      <td>production</td>\n",
       "      <td>0:0</td>\n",
       "      <td>COMPLETED</td>\n",
       "      <td>cn1464</td>\n",
       "    </tr>\n",
       "    <tr>\n",
       "      <th>3</th>\n",
       "      <td>16251645</td>\n",
       "      <td>treviso</td>\n",
       "      <td>arabella</td>\n",
       "      <td>122880Mn</td>\n",
       "      <td>65317.33M</td>\n",
       "      <td>1188000</td>\n",
       "      <td>1050632</td>\n",
       "      <td>1</td>\n",
       "      <td>24</td>\n",
       "      <td>production</td>\n",
       "      <td>0:0</td>\n",
       "      <td>COMPLETED</td>\n",
       "      <td>cn1473</td>\n",
       "    </tr>\n",
       "    <tr>\n",
       "      <th>4</th>\n",
       "      <td>16251646</td>\n",
       "      <td>treviso</td>\n",
       "      <td>arabella</td>\n",
       "      <td>122880Mn</td>\n",
       "      <td>65876.11M</td>\n",
       "      <td>1188000</td>\n",
       "      <td>1188003</td>\n",
       "      <td>1</td>\n",
       "      <td>24</td>\n",
       "      <td>production</td>\n",
       "      <td>0:0</td>\n",
       "      <td>COMPLETED</td>\n",
       "      <td>cn1440</td>\n",
       "    </tr>\n",
       "  </tbody>\n",
       "</table>\n",
       "</div>"
      ],
      "text/plain": [
       "      JOBID  ACCOUNT      USER    REQMEM    USEDMEM  REQTIME  USEDTIME  NODES  \\\n",
       "0  15925210  treviso  arabella  122880Mn  65973.49M  1188000   1188028      1   \n",
       "1  15861126  treviso  arabella  122880Mn  67181.12M  1188000   1090256      1   \n",
       "2  15861125  treviso  arabella  122880Mn  69111.86M  1188000   1188020      1   \n",
       "3  16251645  treviso  arabella  122880Mn  65317.33M  1188000   1050632      1   \n",
       "4  16251646  treviso  arabella  122880Mn  65876.11M  1188000   1188003      1   \n",
       "\n",
       "   CPUS   PARTITION EXITCODE      STATE NODELIST  \n",
       "0    24  production      0:0  COMPLETED   cn1531  \n",
       "1    24  production      0:0  COMPLETED   cn1441  \n",
       "2    24  production      0:0  COMPLETED   cn1464  \n",
       "3    24  production      0:0  COMPLETED   cn1473  \n",
       "4    24  production      0:0  COMPLETED   cn1440  "
      ]
     },
     "execution_count": 11,
     "metadata": {},
     "output_type": "execute_result"
    }
   ],
   "source": [
    "new_reqtime = data_prod[\"REQTIME\"].map(convert_time_to_seconds)\n",
    "new_usedtime = data_prod[\"USEDTIME\"].map(convert_time_to_seconds)\n",
    "\n",
    "data_prod = data_prod.assign(REQTIME = new_reqtime)\n",
    "data_prod = data_prod.assign(USEDTIME = new_usedtime)\n",
    "\n",
    "data_prod.head()"
   ]
  }
 ],
 "metadata": {
  "kernelspec": {
   "display_name": "Python 3",
   "language": "python",
   "name": "python3"
  },
  "language_info": {
   "codemirror_mode": {
    "name": "ipython",
    "version": 3
   },
   "file_extension": ".py",
   "mimetype": "text/x-python",
   "name": "python",
   "nbconvert_exporter": "python",
   "pygments_lexer": "ipython3",
   "version": "3.8.5"
  },
  "toc": {
   "base_numbering": 1,
   "nav_menu": {},
   "number_sections": true,
   "sideBar": true,
   "skip_h1_title": true,
   "title_cell": "Table of Contents",
   "title_sidebar": "Contents",
   "toc_cell": true,
   "toc_position": {},
   "toc_section_display": true,
   "toc_window_display": true
  }
 },
 "nbformat": 4,
 "nbformat_minor": 4
}

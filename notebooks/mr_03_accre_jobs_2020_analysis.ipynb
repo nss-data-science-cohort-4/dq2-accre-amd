{
 "cells": [
  {
   "cell_type": "markdown",
   "metadata": {
    "toc": true
   },
   "source": [
    "<h1>Table of Contents<span class=\"tocSkip\"></span></h1>\n",
    "<div class=\"toc\"><ul class=\"toc-item\"><li><span><a href=\"#Importing-the-clean-dataset\" data-toc-modified-id=\"Importing-the-clean-dataset-1\"><span class=\"toc-item-num\">1&nbsp;&nbsp;</span>Importing the clean dataset</a></span></li></ul></div>"
   ]
  },
  {
   "cell_type": "markdown",
   "metadata": {},
   "source": [
    "## Importing the clean dataset"
   ]
  },
  {
   "cell_type": "code",
   "execution_count": 2,
   "metadata": {},
   "outputs": [],
   "source": [
    "import pandas as pd"
   ]
  },
  {
   "cell_type": "code",
   "execution_count": 4,
   "metadata": {},
   "outputs": [
    {
     "data": {
      "text/html": [
       "<div>\n",
       "<style scoped>\n",
       "    .dataframe tbody tr th:only-of-type {\n",
       "        vertical-align: middle;\n",
       "    }\n",
       "\n",
       "    .dataframe tbody tr th {\n",
       "        vertical-align: top;\n",
       "    }\n",
       "\n",
       "    .dataframe thead th {\n",
       "        text-align: right;\n",
       "    }\n",
       "</style>\n",
       "<table border=\"1\" class=\"dataframe\">\n",
       "  <thead>\n",
       "    <tr style=\"text-align: right;\">\n",
       "      <th></th>\n",
       "      <th>jobid</th>\n",
       "      <th>account</th>\n",
       "      <th>user</th>\n",
       "      <th>reqtime</th>\n",
       "      <th>usedtime</th>\n",
       "      <th>nodes</th>\n",
       "      <th>cpus</th>\n",
       "      <th>partition</th>\n",
       "      <th>state</th>\n",
       "      <th>exitcode_user</th>\n",
       "      <th>exitcode_error</th>\n",
       "      <th>used_mb_per_core</th>\n",
       "      <th>reqmem_per_core</th>\n",
       "      <th>cluster_type</th>\n",
       "      <th>cluster_nodes</th>\n",
       "    </tr>\n",
       "  </thead>\n",
       "  <tbody>\n",
       "    <tr>\n",
       "      <th>0</th>\n",
       "      <td>15925210</td>\n",
       "      <td>treviso</td>\n",
       "      <td>arabella</td>\n",
       "      <td>1188000</td>\n",
       "      <td>1188028</td>\n",
       "      <td>1</td>\n",
       "      <td>24</td>\n",
       "      <td>production</td>\n",
       "      <td>COMPLETED</td>\n",
       "      <td>0</td>\n",
       "      <td>0</td>\n",
       "      <td>2748.895417</td>\n",
       "      <td>5120.0</td>\n",
       "      <td>cn</td>\n",
       "      <td>1531</td>\n",
       "    </tr>\n",
       "    <tr>\n",
       "      <th>1</th>\n",
       "      <td>15861126</td>\n",
       "      <td>treviso</td>\n",
       "      <td>arabella</td>\n",
       "      <td>1188000</td>\n",
       "      <td>1090256</td>\n",
       "      <td>1</td>\n",
       "      <td>24</td>\n",
       "      <td>production</td>\n",
       "      <td>COMPLETED</td>\n",
       "      <td>0</td>\n",
       "      <td>0</td>\n",
       "      <td>2799.213333</td>\n",
       "      <td>5120.0</td>\n",
       "      <td>cn</td>\n",
       "      <td>1441</td>\n",
       "    </tr>\n",
       "    <tr>\n",
       "      <th>2</th>\n",
       "      <td>15861125</td>\n",
       "      <td>treviso</td>\n",
       "      <td>arabella</td>\n",
       "      <td>1188000</td>\n",
       "      <td>1188020</td>\n",
       "      <td>1</td>\n",
       "      <td>24</td>\n",
       "      <td>production</td>\n",
       "      <td>COMPLETED</td>\n",
       "      <td>0</td>\n",
       "      <td>0</td>\n",
       "      <td>2879.660833</td>\n",
       "      <td>5120.0</td>\n",
       "      <td>cn</td>\n",
       "      <td>1464</td>\n",
       "    </tr>\n",
       "    <tr>\n",
       "      <th>3</th>\n",
       "      <td>16251645</td>\n",
       "      <td>treviso</td>\n",
       "      <td>arabella</td>\n",
       "      <td>1188000</td>\n",
       "      <td>1050632</td>\n",
       "      <td>1</td>\n",
       "      <td>24</td>\n",
       "      <td>production</td>\n",
       "      <td>COMPLETED</td>\n",
       "      <td>0</td>\n",
       "      <td>0</td>\n",
       "      <td>2721.555417</td>\n",
       "      <td>5120.0</td>\n",
       "      <td>cn</td>\n",
       "      <td>1473</td>\n",
       "    </tr>\n",
       "    <tr>\n",
       "      <th>4</th>\n",
       "      <td>16251646</td>\n",
       "      <td>treviso</td>\n",
       "      <td>arabella</td>\n",
       "      <td>1188000</td>\n",
       "      <td>1188003</td>\n",
       "      <td>1</td>\n",
       "      <td>24</td>\n",
       "      <td>production</td>\n",
       "      <td>COMPLETED</td>\n",
       "      <td>0</td>\n",
       "      <td>0</td>\n",
       "      <td>2744.837917</td>\n",
       "      <td>5120.0</td>\n",
       "      <td>cn</td>\n",
       "      <td>1440</td>\n",
       "    </tr>\n",
       "  </tbody>\n",
       "</table>\n",
       "</div>"
      ],
      "text/plain": [
       "      jobid  account      user  reqtime  usedtime  nodes  cpus   partition  \\\n",
       "0  15925210  treviso  arabella  1188000   1188028      1    24  production   \n",
       "1  15861126  treviso  arabella  1188000   1090256      1    24  production   \n",
       "2  15861125  treviso  arabella  1188000   1188020      1    24  production   \n",
       "3  16251645  treviso  arabella  1188000   1050632      1    24  production   \n",
       "4  16251646  treviso  arabella  1188000   1188003      1    24  production   \n",
       "\n",
       "       state  exitcode_user  exitcode_error  used_mb_per_core  \\\n",
       "0  COMPLETED              0               0       2748.895417   \n",
       "1  COMPLETED              0               0       2799.213333   \n",
       "2  COMPLETED              0               0       2879.660833   \n",
       "3  COMPLETED              0               0       2721.555417   \n",
       "4  COMPLETED              0               0       2744.837917   \n",
       "\n",
       "   reqmem_per_core cluster_type cluster_nodes  \n",
       "0           5120.0           cn          1531  \n",
       "1           5120.0           cn          1441  \n",
       "2           5120.0           cn          1464  \n",
       "3           5120.0           cn          1473  \n",
       "4           5120.0           cn          1440  "
      ]
     },
     "execution_count": 4,
     "metadata": {},
     "output_type": "execute_result"
    }
   ],
   "source": [
    "accre_jobs_2020 = pd.read_csv('../data/accre_jobs_2020_cleaned.csv')\n",
    "accre_jobs_2020.head()"
   ]
  },
  {
   "cell_type": "markdown",
   "metadata": {},
   "source": [
    "Let's have a quick peek at the info for this dataset"
   ]
  },
  {
   "cell_type": "code",
   "execution_count": 5,
   "metadata": {},
   "outputs": [
    {
     "name": "stdout",
     "output_type": "stream",
     "text": [
      "<class 'pandas.core.frame.DataFrame'>\n",
      "RangeIndex: 3813160 entries, 0 to 3813159\n",
      "Data columns (total 15 columns):\n",
      " #   Column            Dtype  \n",
      "---  ------            -----  \n",
      " 0   jobid             object \n",
      " 1   account           object \n",
      " 2   user              object \n",
      " 3   reqtime           int64  \n",
      " 4   usedtime          int64  \n",
      " 5   nodes             int64  \n",
      " 6   cpus              int64  \n",
      " 7   partition         object \n",
      " 8   state             object \n",
      " 9   exitcode_user     int64  \n",
      " 10  exitcode_error    int64  \n",
      " 11  used_mb_per_core  float64\n",
      " 12  reqmem_per_core   float64\n",
      " 13  cluster_type      object \n",
      " 14  cluster_nodes     object \n",
      "dtypes: float64(2), int64(6), object(7)\n",
      "memory usage: 436.4+ MB\n"
     ]
    }
   ],
   "source": [
    "accre_jobs_2020.info()"
   ]
  },
  {
   "cell_type": "code",
   "execution_count": null,
   "metadata": {},
   "outputs": [],
   "source": []
  }
 ],
 "metadata": {
  "kernelspec": {
   "display_name": "Python 3",
   "language": "python",
   "name": "python3"
  },
  "language_info": {
   "codemirror_mode": {
    "name": "ipython",
    "version": 3
   },
   "file_extension": ".py",
   "mimetype": "text/x-python",
   "name": "python",
   "nbconvert_exporter": "python",
   "pygments_lexer": "ipython3",
   "version": "3.8.5"
  },
  "toc": {
   "base_numbering": 1,
   "nav_menu": {},
   "number_sections": true,
   "sideBar": true,
   "skip_h1_title": true,
   "title_cell": "Table of Contents",
   "title_sidebar": "Contents",
   "toc_cell": true,
   "toc_position": {},
   "toc_section_display": true,
   "toc_window_display": true
  }
 },
 "nbformat": 4,
 "nbformat_minor": 4
}

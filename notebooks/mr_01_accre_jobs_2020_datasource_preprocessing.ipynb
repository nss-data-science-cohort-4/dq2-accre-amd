{
 "cells": [
  {
   "cell_type": "code",
   "execution_count": 1,
   "metadata": {},
   "outputs": [],
   "source": [
    "import pandas as pd\n",
    "\n",
    "# For preprocessing\n",
    "import csv\n",
    "from os import path\n",
    "from pathlib import Path\n",
    "\n",
    "# Set the project root folder to where this file is located\n",
    "root_dir = Path().absolute()"
   ]
  },
  {
   "cell_type": "markdown",
   "metadata": {},
   "source": [
    "## Importing the data"
   ]
  },
  {
   "cell_type": "markdown",
   "metadata": {},
   "source": [
    "This import has an error so we will wrap it in a Try-Except block first."
   ]
  },
  {
   "cell_type": "code",
   "execution_count": 2,
   "metadata": {},
   "outputs": [
    {
     "name": "stdout",
     "output_type": "stream",
     "text": [
      "Error tokenizing data. C error: Expected 13 fields in line 3461, saw 15\n",
      "\n"
     ]
    }
   ],
   "source": [
    "# Attempting to read the file\n",
    "try:\n",
    "    data = pd.read_csv('../data/accre-jobs-2020.csv')\n",
    "except Exception as error:\n",
    "    print(error)"
   ]
  },
  {
   "cell_type": "markdown",
   "metadata": {},
   "source": [
    "Looks like the error is on line index 3461 (This is 1-based so with our 0-based indexing, that would be 3460.)\n",
    "\n",
    "Looking into the file directly, it appears that the import creates some errors because some of the data in that line are formatted as `[1,2,3,4]`. The commas here are tricking the CSV parser in thinking that they should be multiple columns instead of one single column. Let's fix that!\n",
    "\n",
    "If we put that last column within quotes as `\"[1,2,3,4]\"`, the csv parser would be able to interpret it as one column."
   ]
  },
  {
   "cell_type": "markdown",
   "metadata": {},
   "source": [
    "## Preprocessing the file"
   ]
  },
  {
   "cell_type": "markdown",
   "metadata": {},
   "source": [
    "Here, we read the original file, go through each line, and up to the 13th column, we keep them as is. Beyond the 13th column, we wrap all the values within quotes. We then write this into a new file that we will use as our dataset with Pandas."
   ]
  },
  {
   "cell_type": "code",
   "execution_count": 3,
   "metadata": {},
   "outputs": [],
   "source": [
    "def preprocess_original_csv_data():\n",
    "    try:\n",
    "        # The data might have already been pre-processed previoulsy\n",
    "        # If not, this line would generate a \"No such file\" error so we would fallback to the exception below\n",
    "        data = pd.read_csv('../data/accre-jobs-2020-processed.csv')\n",
    "        print('Reading from previously processed file...')\n",
    "        display(data.head())\n",
    "\n",
    "    except FileNotFoundError:\n",
    "        print(\"Preprocessed file not found. Creating a new one. Please wait...\")\n",
    "\n",
    "        # Open 2 files: One is the source (read) and one is the destination (write)\n",
    "        with open(path.join(root_dir, '..', 'data', 'accre-jobs-2020.csv'), mode='r') as source,\\\n",
    "        open(path.join(root_dir, '..', 'data', 'accre-jobs-2020-processed.csv'), mode='w', newline='') as destination:\n",
    "\n",
    "            # Set file reader and file writer on the source and destination\n",
    "            reader = csv.reader(source)\n",
    "            writer = csv.writer(destination)\n",
    "\n",
    "            # Go through each line in the source file\n",
    "            for line in reader:\n",
    "                # Create a new matching line with the last column within quotes\n",
    "                # This will make it into a single column if there are more commas\n",
    "                newline = line[:12] + [\",\".join(line[12:])]\n",
    "                # Write newline to the destination file\n",
    "                writer.writerow(newline)\n",
    "\n",
    "    except Error as error:\n",
    "        print(\"Something went wrong:\", error)"
   ]
  },
  {
   "cell_type": "markdown",
   "metadata": {},
   "source": [
    "**This line only needs to run once!\\\n",
    "Uncomment and run if needed to re-process the data file!\\\n",
    "This line will take a while to run!**"
   ]
  },
  {
   "cell_type": "code",
   "execution_count": 4,
   "metadata": {},
   "outputs": [],
   "source": [
    "# preprocess_original_csv_data()"
   ]
  },
  {
   "cell_type": "markdown",
   "metadata": {},
   "source": [
    "## New Import"
   ]
  },
  {
   "cell_type": "markdown",
   "metadata": {},
   "source": [
    "Now, we can work off that destination file instead"
   ]
  },
  {
   "cell_type": "code",
   "execution_count": 5,
   "metadata": {},
   "outputs": [
    {
     "data": {
      "text/html": [
       "<div>\n",
       "<style scoped>\n",
       "    .dataframe tbody tr th:only-of-type {\n",
       "        vertical-align: middle;\n",
       "    }\n",
       "\n",
       "    .dataframe tbody tr th {\n",
       "        vertical-align: top;\n",
       "    }\n",
       "\n",
       "    .dataframe thead th {\n",
       "        text-align: right;\n",
       "    }\n",
       "</style>\n",
       "<table border=\"1\" class=\"dataframe\">\n",
       "  <thead>\n",
       "    <tr style=\"text-align: right;\">\n",
       "      <th></th>\n",
       "      <th>JOBID</th>\n",
       "      <th>ACCOUNT</th>\n",
       "      <th>USER</th>\n",
       "      <th>REQMEM</th>\n",
       "      <th>USEDMEM</th>\n",
       "      <th>REQTIME</th>\n",
       "      <th>USEDTIME</th>\n",
       "      <th>NODES</th>\n",
       "      <th>CPUS</th>\n",
       "      <th>PARTITION</th>\n",
       "      <th>EXITCODE</th>\n",
       "      <th>STATE</th>\n",
       "      <th>NODELIST</th>\n",
       "    </tr>\n",
       "  </thead>\n",
       "  <tbody>\n",
       "    <tr>\n",
       "      <th>0</th>\n",
       "      <td>15925210</td>\n",
       "      <td>treviso</td>\n",
       "      <td>arabella</td>\n",
       "      <td>122880Mn</td>\n",
       "      <td>65973.49M</td>\n",
       "      <td>13-18:00:00</td>\n",
       "      <td>13-18:00:28</td>\n",
       "      <td>1</td>\n",
       "      <td>24</td>\n",
       "      <td>production</td>\n",
       "      <td>0:0</td>\n",
       "      <td>COMPLETED</td>\n",
       "      <td>cn1531</td>\n",
       "    </tr>\n",
       "    <tr>\n",
       "      <th>1</th>\n",
       "      <td>15861126</td>\n",
       "      <td>treviso</td>\n",
       "      <td>arabella</td>\n",
       "      <td>122880Mn</td>\n",
       "      <td>67181.12M</td>\n",
       "      <td>13-18:00:00</td>\n",
       "      <td>12-14:50:56</td>\n",
       "      <td>1</td>\n",
       "      <td>24</td>\n",
       "      <td>production</td>\n",
       "      <td>0:0</td>\n",
       "      <td>COMPLETED</td>\n",
       "      <td>cn1441</td>\n",
       "    </tr>\n",
       "    <tr>\n",
       "      <th>2</th>\n",
       "      <td>15861125</td>\n",
       "      <td>treviso</td>\n",
       "      <td>arabella</td>\n",
       "      <td>122880Mn</td>\n",
       "      <td>69111.86M</td>\n",
       "      <td>13-18:00:00</td>\n",
       "      <td>13-18:00:20</td>\n",
       "      <td>1</td>\n",
       "      <td>24</td>\n",
       "      <td>production</td>\n",
       "      <td>0:0</td>\n",
       "      <td>COMPLETED</td>\n",
       "      <td>cn1464</td>\n",
       "    </tr>\n",
       "    <tr>\n",
       "      <th>3</th>\n",
       "      <td>16251645</td>\n",
       "      <td>treviso</td>\n",
       "      <td>arabella</td>\n",
       "      <td>122880Mn</td>\n",
       "      <td>65317.33M</td>\n",
       "      <td>13-18:00:00</td>\n",
       "      <td>12-03:50:32</td>\n",
       "      <td>1</td>\n",
       "      <td>24</td>\n",
       "      <td>production</td>\n",
       "      <td>0:0</td>\n",
       "      <td>COMPLETED</td>\n",
       "      <td>cn1473</td>\n",
       "    </tr>\n",
       "    <tr>\n",
       "      <th>4</th>\n",
       "      <td>16251646</td>\n",
       "      <td>treviso</td>\n",
       "      <td>arabella</td>\n",
       "      <td>122880Mn</td>\n",
       "      <td>65876.11M</td>\n",
       "      <td>13-18:00:00</td>\n",
       "      <td>13-18:00:03</td>\n",
       "      <td>1</td>\n",
       "      <td>24</td>\n",
       "      <td>production</td>\n",
       "      <td>0:0</td>\n",
       "      <td>COMPLETED</td>\n",
       "      <td>cn1440</td>\n",
       "    </tr>\n",
       "  </tbody>\n",
       "</table>\n",
       "</div>"
      ],
      "text/plain": [
       "      JOBID  ACCOUNT      USER    REQMEM    USEDMEM      REQTIME     USEDTIME  \\\n",
       "0  15925210  treviso  arabella  122880Mn  65973.49M  13-18:00:00  13-18:00:28   \n",
       "1  15861126  treviso  arabella  122880Mn  67181.12M  13-18:00:00  12-14:50:56   \n",
       "2  15861125  treviso  arabella  122880Mn  69111.86M  13-18:00:00  13-18:00:20   \n",
       "3  16251645  treviso  arabella  122880Mn  65317.33M  13-18:00:00  12-03:50:32   \n",
       "4  16251646  treviso  arabella  122880Mn  65876.11M  13-18:00:00  13-18:00:03   \n",
       "\n",
       "   NODES  CPUS   PARTITION EXITCODE      STATE NODELIST  \n",
       "0      1    24  production      0:0  COMPLETED   cn1531  \n",
       "1      1    24  production      0:0  COMPLETED   cn1441  \n",
       "2      1    24  production      0:0  COMPLETED   cn1464  \n",
       "3      1    24  production      0:0  COMPLETED   cn1473  \n",
       "4      1    24  production      0:0  COMPLETED   cn1440  "
      ]
     },
     "execution_count": 5,
     "metadata": {},
     "output_type": "execute_result"
    }
   ],
   "source": [
    "# Try importing as normal again on the newly created destination file\n",
    "data = pd.read_csv('../data/accre-jobs-2020-processed.csv')\n",
    "data.head()"
   ]
  },
  {
   "cell_type": "markdown",
   "metadata": {},
   "source": [
    "Let's look at line 3461 (Index 3460) to confirm."
   ]
  },
  {
   "cell_type": "code",
   "execution_count": 6,
   "metadata": {},
   "outputs": [
    {
     "data": {
      "text/html": [
       "<div>\n",
       "<style scoped>\n",
       "    .dataframe tbody tr th:only-of-type {\n",
       "        vertical-align: middle;\n",
       "    }\n",
       "\n",
       "    .dataframe tbody tr th {\n",
       "        vertical-align: top;\n",
       "    }\n",
       "\n",
       "    .dataframe thead th {\n",
       "        text-align: right;\n",
       "    }\n",
       "</style>\n",
       "<table border=\"1\" class=\"dataframe\">\n",
       "  <thead>\n",
       "    <tr style=\"text-align: right;\">\n",
       "      <th></th>\n",
       "      <th>JOBID</th>\n",
       "      <th>ACCOUNT</th>\n",
       "      <th>USER</th>\n",
       "      <th>REQMEM</th>\n",
       "      <th>USEDMEM</th>\n",
       "      <th>REQTIME</th>\n",
       "      <th>USEDTIME</th>\n",
       "      <th>NODES</th>\n",
       "      <th>CPUS</th>\n",
       "      <th>PARTITION</th>\n",
       "      <th>EXITCODE</th>\n",
       "      <th>STATE</th>\n",
       "      <th>NODELIST</th>\n",
       "    </tr>\n",
       "  </thead>\n",
       "  <tbody>\n",
       "    <tr>\n",
       "      <th>3460</th>\n",
       "      <td>17050901_91</td>\n",
       "      <td>winged</td>\n",
       "      <td>lavonda</td>\n",
       "      <td>4096Mn</td>\n",
       "      <td>669.61M</td>\n",
       "      <td>12:00:00</td>\n",
       "      <td>00:06:05</td>\n",
       "      <td>4</td>\n",
       "      <td>1</td>\n",
       "      <td>production</td>\n",
       "      <td>0:0</td>\n",
       "      <td>COMPLETED</td>\n",
       "      <td>cn[449,463,911,913]</td>\n",
       "    </tr>\n",
       "  </tbody>\n",
       "</table>\n",
       "</div>"
      ],
      "text/plain": [
       "            JOBID ACCOUNT     USER  REQMEM  USEDMEM   REQTIME  USEDTIME  \\\n",
       "3460  17050901_91  winged  lavonda  4096Mn  669.61M  12:00:00  00:06:05   \n",
       "\n",
       "      NODES  CPUS   PARTITION EXITCODE      STATE             NODELIST  \n",
       "3460      4     1  production      0:0  COMPLETED  cn[449,463,911,913]  "
      ]
     },
     "execution_count": 6,
     "metadata": {},
     "output_type": "execute_result"
    }
   ],
   "source": [
    "# Check the previously problematic line\n",
    "data.iloc[[3460]]"
   ]
  },
  {
   "cell_type": "markdown",
   "metadata": {},
   "source": [
    "Yep, looks like it is imported normally. We are good to go! So moving forward, we will work off the *preprocessed* file"
   ]
  }
 ],
 "metadata": {
  "kernelspec": {
   "display_name": "Python 3",
   "language": "python",
   "name": "python3"
  },
  "language_info": {
   "codemirror_mode": {
    "name": "ipython",
    "version": 3
   },
   "file_extension": ".py",
   "mimetype": "text/x-python",
   "name": "python",
   "nbconvert_exporter": "python",
   "pygments_lexer": "ipython3",
   "version": "3.8.5"
  },
  "toc": {
   "base_numbering": 1,
   "nav_menu": {},
   "number_sections": false,
   "sideBar": true,
   "skip_h1_title": true,
   "title_cell": "Table of Contents",
   "title_sidebar": "Contents",
   "toc_cell": false,
   "toc_position": {
    "height": "calc(100% - 180px)",
    "left": "10px",
    "top": "150px",
    "width": "165px"
   },
   "toc_section_display": true,
   "toc_window_display": true
  }
 },
 "nbformat": 4,
 "nbformat_minor": 4
}
